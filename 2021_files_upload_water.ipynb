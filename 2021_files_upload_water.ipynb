{
  "cells": [
    {
      "cell_type": "markdown",
      "metadata": {
        "id": "view-in-github",
        "colab_type": "text"
      },
      "source": [
        "<a href=\"https://colab.research.google.com/github/juneilsam/underwater_bigdata/blob/main/2021_files_upload_water.ipynb\" target=\"_parent\"><img src=\"https://colab.research.google.com/assets/colab-badge.svg\" alt=\"Open In Colab\"/></a>"
      ]
    },
    {
      "cell_type": "code",
      "execution_count": null,
      "id": "4906a5f5",
      "metadata": {
        "id": "4906a5f5"
      },
      "outputs": [],
      "source": [
        "# -*- coding: utf-8 -*-\n",
        "import numpy as np # 넘파이\n",
        "import pandas as pd\n",
        "import time\n",
        "import datetime as dt\n",
        "from dateutil.parser import parse\n",
        "\n",
        "from math import sqrt # math\n",
        "from tqdm import tqdm\n",
        "\n",
        "from matplotlib import pyplot # 플롯을 그리기 위함\n",
        "\n",
        "import cx_Oracle as cx\n",
        "import os\n",
        "import csv"
      ]
    },
    {
      "cell_type": "code",
      "execution_count": null,
      "id": "c31d57f0",
      "metadata": {
        "id": "c31d57f0"
      },
      "outputs": [],
      "source": [
        "# 전체 삭제시 사용\n",
        "# LOCATION = r\"C:\\Users\\...\\instantclient_21_3\"\n",
        "# os.environ[\"PATH\"] = LOCATION + \";\" + os.environ[\"PATH\"] #환경변수 등록\n",
        "\n",
        "# conn = cx.connect(\"\", \"\", cx.makedsn(\"\", \"\", \"\"))\n",
        "# curs = conn.cursor()\n",
        "# curs.execute(\"DELETE FROM GD602\")\n",
        "# conn.commit()\n",
        "# curs.close()\n",
        "# conn.close()"
      ]
    },
    {
      "cell_type": "code",
      "execution_count": null,
      "id": "9b4cadf5",
      "metadata": {
        "id": "9b4cadf5"
      },
      "outputs": [],
      "source": [
        "def DFToDB(df):\n",
        "    try:\n",
        "        LOCATION = r\"C:\\Users\\...\\instantclient_21_3\"\n",
        "        os.environ[\"PATH\"] = LOCATION + \";\" + os.environ[\"PATH\"] #환경변수 등록\n",
        "\n",
        "        conn = cx.connect(\"\", \"\", cx.makedsn(\"\", \"\", \"\"))\n",
        "        curs = conn.cursor()\n",
        "        \n",
        "        rows = [tuple(i) for i in df.to_records(index=False)]\n",
        "        up_rows = []\n",
        "        # 타입변환\n",
        "        for j in df.index:\n",
        "            r_1 = int(rows[j][0])\n",
        "            r_2 = int(rows[j][1])\n",
        "            r_3 = str(rows[j][2])\n",
        "            r_4 = parse(rows[j][3])\n",
        "            r_5 = int(rows[j][4])\n",
        "            up_rows.append(tuple([r_1, r_2, r_3, r_4, r_5]))\n",
        "\n",
        "        curs.executemany(\"INSERT INTO GD602 \\\n",
        "                         (OBSR_DTA_ID, RESULT_ID, OBSR_DTA_VALUE, \\\n",
        "                         OBSR_DT, QLITY_ID) \\\n",
        "                         VALUES (:1, :2, :3, :4, :5)\", up_rows)\n",
        "        conn.commit()\n",
        "        curs.close()\n",
        "        conn.close()\n",
        "        print(\"DB Inserted\")\n",
        "        \n",
        "    except Exception as e:\n",
        "        print(\"데이터를 DB에 업로드하는 데 문제가 있습니다.\\n\", e)"
      ]
    },
    {
      "cell_type": "code",
      "execution_count": null,
      "id": "6dd00741",
      "metadata": {
        "id": "6dd00741"
      },
      "outputs": [],
      "source": [
        "ddi = 'C:/Users/'\n",
        "dir_list = os.listdir(ddi)"
      ]
    },
    {
      "cell_type": "code",
      "execution_count": null,
      "id": "80f8ff7c",
      "metadata": {
        "id": "80f8ff7c",
        "outputId": "cb71b61d-e84e-4697-e033-47757b68c564"
      },
      "outputs": [
        {
          "data": {
            "text/plain": [
              "['02_양구방산_암반_통합완료.csv',\n",
              " '04_화천화천_암반_통합완료.csv',\n",
              " '06_양평양동_충적_통합완료.csv',\n",
              " '07_평택안중_암반_통합완료.csv',\n",
              " '08_포천대회산_암반_통합자료.csv',\n",
              " '10_밀양가곡_암반_통합자료.csv',\n",
              " '11_산청산청_암반_통합자료.csv',\n",
              " '12_성주벽진_충적_통합자료.csv',\n",
              " '14_의성안계_암반_통합자료.csv',\n",
              " '22_태안안면_암반_통합자료.csv',\n",
              " '24_의령낙서_충적_통합자료.csv',\n",
              " '25_의령낙서_암반_통합자료.csv']"
            ]
          },
          "execution_count": 139,
          "metadata": {},
          "output_type": "execute_result"
        }
      ],
      "source": [
        "dir_list"
      ]
    },
    {
      "cell_type": "code",
      "execution_count": null,
      "id": "2db4cecf",
      "metadata": {
        "id": "2db4cecf"
      },
      "outputs": [],
      "source": [
        "my_tear = {'02' : 14789, '04' : 14995, '06' : 16218, '07' : 14717, '08' : 14700, '10' : 14687, \n",
        "           '11' : 14730, '12' : 16189, '14' : 14764, '22' : 14749, '24' : 16197, '25' : 14758}"
      ]
    },
    {
      "cell_type": "code",
      "execution_count": null,
      "id": "5b357c7d",
      "metadata": {
        "id": "5b357c7d",
        "outputId": "209cb777-6ed9-4090-8bb5-3ad354a4e55d"
      },
      "outputs": [
        {
          "name": "stdout",
          "output_type": "stream",
          "text": [
            "02_양구방산_암반_통합완료.csv 4352\n",
            "04_화천화천_암반_통합완료.csv 1889\n",
            "06_양평양동_충적_통합완료.csv 4352\n",
            "07_평택안중_암반_통합완료.csv 3717\n",
            "08_포천대회산_암반_통합자료.csv 3352\n",
            "10_밀양가곡_암반_통합자료.csv 4352\n",
            "11_산청산청_암반_통합자료.csv 4352\n",
            "12_성주벽진_충적_통합자료.csv 4217\n",
            "14_의성안계_암반_통합자료.csv 4352\n",
            "22_태안안면_암반_통합자료.csv 3987\n",
            "24_의령낙서_충적_통합자료.csv 4748\n",
            "25_의령낙서_암반_통합자료.csv 4748\n"
          ]
        }
      ],
      "source": [
        "for file in dir_list:\n",
        "    n = file[:2]\n",
        "    water_spot = pd.read_csv(f\"{ddi}{file}\", encoding='utf-8')\n",
        "    water_spot['OBSR_DTA_ID'] = int(n)\n",
        "    water_spot['RESULT_ID'] = my_tear[n]\n",
        "    water_spot['QLITY_ID'] = 2\n",
        "    water_spot = water_spot[['OBSR_DTA_ID', 'RESULT_ID', '수위', '일시', 'QLITY_ID']]\n",
        "    DFToDB(water_spot)"
      ]
    }
  ],
  "metadata": {
    "kernelspec": {
      "display_name": "Python 3",
      "language": "python",
      "name": "python3"
    },
    "language_info": {
      "codemirror_mode": {
        "name": "ipython",
        "version": 3
      },
      "file_extension": ".py",
      "mimetype": "text/x-python",
      "name": "python",
      "nbconvert_exporter": "python",
      "pygments_lexer": "ipython3",
      "version": "3.6.13"
    },
    "colab": {
      "name": "files_upload_water.ipynb의 사본",
      "provenance": [],
      "include_colab_link": true
    }
  },
  "nbformat": 4,
  "nbformat_minor": 5
}