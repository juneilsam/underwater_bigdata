{
  "cells": [
    {
      "cell_type": "code",
      "execution_count": null,
      "id": "c9683b27",
      "metadata": {
        "id": "c9683b27"
      },
      "outputs": [],
      "source": [
        "import numpy as np\n",
        "from math import sqrt\n",
        "import missingno as msno\n",
        "from tqdm import tqdm\n",
        "import os\n",
        "\n",
        "import warnings # 불필요한 경고문 삭제\n",
        "warnings.filterwarnings(action='ignore')\n",
        "\n",
        "from matplotlib import pyplot\n",
        "import matplotlib.pyplot as plt\n",
        "import seaborn as sns\n",
        "import pandas as pd\n",
        "from pandas import read_csv\n",
        "from pandas import DataFrame\n",
        "from pandas import concat\n",
        "from pandas import to_datetime, to_timedelta, date_range\n",
        "\n",
        "#tensorflow 2.0\n",
        "import tensorflow as tf\n",
        "import keras\n",
        "from tensorflow.keras.models import Sequential, load_model\n",
        "from tensorflow.keras.layers import Dense, Dropout, BatchNormalization, LSTM\n",
        "from tensorflow.keras.optimizers import SGD, Adam, Adamax, Adagrad, RMSprop, Nadam\n",
        "from keras.layers.advanced_activations import LeakyReLU, PReLU\n",
        "from sklearn.preprocessing import MinMaxScaler, StandardScaler, MaxAbsScaler, RobustScaler, Normalizer\n",
        "from sklearn.metrics import mean_squared_error, r2_score, mean_absolute_error\n",
        "from keras.callbacks import EarlyStopping"
      ]
    },
    {
      "cell_type": "code",
      "execution_count": null,
      "id": "1ef5e547",
      "metadata": {
        "id": "1ef5e547"
      },
      "outputs": [],
      "source": [
        "# 1-24시간 시간 단위 0-23시간 변환\n",
        "def time_00(data, column):\n",
        "    for num, i in tqdm(enumerate(data[column])):\n",
        "        if str(i)[8:] == '24':\n",
        "            temp = pd.to_datetime((str(i)[:8] + '00'), format = '%Y%m%d%H')\n",
        "            i = temp + pd.to_timedelta('1d')\n",
        "        data.loc[num, column] = pd.to_datetime(i, format='%Y%m%d%H')"
      ]
    },
    {
      "cell_type": "code",
      "execution_count": null,
      "id": "6ff9549a",
      "metadata": {
        "scrolled": true,
        "id": "6ff9549a",
        "outputId": "71cef432-8491-49a9-8a43-e615aede3bb3"
      },
      "outputs": [
        {
          "data": {
            "text/html": [
              "<div>\n",
              "<style scoped>\n",
              "    .dataframe tbody tr th:only-of-type {\n",
              "        vertical-align: middle;\n",
              "    }\n",
              "\n",
              "    .dataframe tbody tr th {\n",
              "        vertical-align: top;\n",
              "    }\n",
              "\n",
              "    .dataframe thead th {\n",
              "        text-align: right;\n",
              "    }\n",
              "</style>\n",
              "<table border=\"1\" class=\"dataframe\">\n",
              "  <thead>\n",
              "    <tr style=\"text-align: right;\">\n",
              "      <th></th>\n",
              "      <th>관측소명</th>\n",
              "      <th>관정형태</th>\n",
              "      <th>일련번호</th>\n",
              "      <th>RESULT_ID</th>\n",
              "      <th>el</th>\n",
              "      <th>QLITY_ID</th>\n",
              "    </tr>\n",
              "    <tr>\n",
              "      <th>date</th>\n",
              "      <th></th>\n",
              "      <th></th>\n",
              "      <th></th>\n",
              "      <th></th>\n",
              "      <th></th>\n",
              "      <th></th>\n",
              "    </tr>\n",
              "  </thead>\n",
              "  <tbody>\n",
              "    <tr>\n",
              "      <th>2002-08-30 11:00:00</th>\n",
              "      <td>장성남면</td>\n",
              "      <td>암반</td>\n",
              "      <td>412547234</td>\n",
              "      <td>778</td>\n",
              "      <td>34.242</td>\n",
              "      <td>5</td>\n",
              "    </tr>\n",
              "    <tr>\n",
              "      <th>2002-08-30 17:00:00</th>\n",
              "      <td>장성남면</td>\n",
              "      <td>암반</td>\n",
              "      <td>412547235</td>\n",
              "      <td>778</td>\n",
              "      <td>34.242</td>\n",
              "      <td>5</td>\n",
              "    </tr>\n",
              "    <tr>\n",
              "      <th>2002-08-30 23:00:00</th>\n",
              "      <td>장성남면</td>\n",
              "      <td>암반</td>\n",
              "      <td>412547236</td>\n",
              "      <td>778</td>\n",
              "      <td>34.252</td>\n",
              "      <td>5</td>\n",
              "    </tr>\n",
              "    <tr>\n",
              "      <th>2002-08-31 05:00:00</th>\n",
              "      <td>장성남면</td>\n",
              "      <td>암반</td>\n",
              "      <td>412547237</td>\n",
              "      <td>778</td>\n",
              "      <td>34.262</td>\n",
              "      <td>5</td>\n",
              "    </tr>\n",
              "    <tr>\n",
              "      <th>2002-08-31 11:00:00</th>\n",
              "      <td>장성남면</td>\n",
              "      <td>암반</td>\n",
              "      <td>412547238</td>\n",
              "      <td>778</td>\n",
              "      <td>34.292</td>\n",
              "      <td>5</td>\n",
              "    </tr>\n",
              "    <tr>\n",
              "      <th>...</th>\n",
              "      <td>...</td>\n",
              "      <td>...</td>\n",
              "      <td>...</td>\n",
              "      <td>...</td>\n",
              "      <td>...</td>\n",
              "      <td>...</td>\n",
              "    </tr>\n",
              "    <tr>\n",
              "      <th>2021-09-30 19:00:00</th>\n",
              "      <td>장성남면</td>\n",
              "      <td>암반</td>\n",
              "      <td>1369108284</td>\n",
              "      <td>778</td>\n",
              "      <td>33.800</td>\n",
              "      <td>1</td>\n",
              "    </tr>\n",
              "    <tr>\n",
              "      <th>2021-09-30 20:00:00</th>\n",
              "      <td>장성남면</td>\n",
              "      <td>암반</td>\n",
              "      <td>1369108251</td>\n",
              "      <td>778</td>\n",
              "      <td>33.820</td>\n",
              "      <td>1</td>\n",
              "    </tr>\n",
              "    <tr>\n",
              "      <th>2021-09-30 21:00:00</th>\n",
              "      <td>장성남면</td>\n",
              "      <td>암반</td>\n",
              "      <td>1369119171</td>\n",
              "      <td>778</td>\n",
              "      <td>33.810</td>\n",
              "      <td>1</td>\n",
              "    </tr>\n",
              "    <tr>\n",
              "      <th>2021-09-30 22:00:00</th>\n",
              "      <td>장성남면</td>\n",
              "      <td>암반</td>\n",
              "      <td>1369128723</td>\n",
              "      <td>778</td>\n",
              "      <td>33.820</td>\n",
              "      <td>1</td>\n",
              "    </tr>\n",
              "    <tr>\n",
              "      <th>2021-09-30 23:00:00</th>\n",
              "      <td>장성남면</td>\n",
              "      <td>암반</td>\n",
              "      <td>1369138415</td>\n",
              "      <td>778</td>\n",
              "      <td>33.810</td>\n",
              "      <td>1</td>\n",
              "    </tr>\n",
              "  </tbody>\n",
              "</table>\n",
              "<p>132692 rows × 6 columns</p>\n",
              "</div>"
            ],
            "text/plain": [
              "                     관측소명 관정형태        일련번호  RESULT_ID      el  QLITY_ID\n",
              "date                                                                   \n",
              "2002-08-30 11:00:00  장성남면   암반   412547234        778  34.242         5\n",
              "2002-08-30 17:00:00  장성남면   암반   412547235        778  34.242         5\n",
              "2002-08-30 23:00:00  장성남면   암반   412547236        778  34.252         5\n",
              "2002-08-31 05:00:00  장성남면   암반   412547237        778  34.262         5\n",
              "2002-08-31 11:00:00  장성남면   암반   412547238        778  34.292         5\n",
              "...                   ...  ...         ...        ...     ...       ...\n",
              "2021-09-30 19:00:00  장성남면   암반  1369108284        778  33.800         1\n",
              "2021-09-30 20:00:00  장성남면   암반  1369108251        778  33.820         1\n",
              "2021-09-30 21:00:00  장성남면   암반  1369119171        778  33.810         1\n",
              "2021-09-30 22:00:00  장성남면   암반  1369128723        778  33.820         1\n",
              "2021-09-30 23:00:00  장성남면   암반  1369138415        778  33.810         1\n",
              "\n",
              "[132692 rows x 6 columns]"
            ]
          },
          "execution_count": 3,
          "metadata": {},
          "output_type": "execute_result"
        }
      ],
      "source": [
        "# 강수량 데이터 통합\n",
        "df11 = pd.read_excel('장성남면_암반_수위.xlsx', sheet_name='2008-2019')\n",
        "df12 = pd.read_excel('장성남면_암반_수위.xlsx', sheet_name='2020-2021')\n",
        "\n",
        "def columns_eng(df):\n",
        "    df.columns = ['관측소명', '관정형태', '일련번호', 'RESULT_ID', 'el', 'date', 'QLITY_ID']\n",
        "    df.set_index('date', drop=True, inplace=True)\n",
        "    df.index = pd.to_datetime(df11.index, format='%y/%m/%d %H:%M:%S')\n",
        "    return df\n",
        "\n",
        "df_1 = pd.concat((columns_eng(df11), columns_eng(df12)), axis=0)\n",
        "df_1.sort_index()\n",
        "df_1.index = pd.to_datetime(df_1.index.strftime('%Y%m%d%H'), format= '%Y%m%d%H')\n",
        "df_1"
      ]
    },
    {
      "cell_type": "code",
      "execution_count": null,
      "id": "9fe609f8",
      "metadata": {
        "id": "9fe609f8",
        "outputId": "8a57daa7-894f-451f-d2e5-501dfcb59612"
      },
      "outputs": [
        {
          "name": "stderr",
          "output_type": "stream",
          "text": [
            "61933it [03:43, 277.41it/s]\n",
            "38674it [01:15, 511.82it/s]\n"
          ]
        },
        {
          "data": {
            "text/html": [
              "<div>\n",
              "<style scoped>\n",
              "    .dataframe tbody tr th:only-of-type {\n",
              "        vertical-align: middle;\n",
              "    }\n",
              "\n",
              "    .dataframe tbody tr th {\n",
              "        vertical-align: top;\n",
              "    }\n",
              "\n",
              "    .dataframe thead th {\n",
              "        text-align: right;\n",
              "    }\n",
              "</style>\n",
              "<table border=\"1\" class=\"dataframe\">\n",
              "  <thead>\n",
              "    <tr style=\"text-align: right;\">\n",
              "      <th></th>\n",
              "      <th>RFOBSCD</th>\n",
              "      <th>rain</th>\n",
              "      <th>AMTPRCP_OBSRVT_CD</th>\n",
              "      <th>rain_sum</th>\n",
              "      <th>CVACT_LVL</th>\n",
              "      <th>DAM_CD</th>\n",
              "      <th>CVACT_DT</th>\n",
              "    </tr>\n",
              "    <tr>\n",
              "      <th>date</th>\n",
              "      <th></th>\n",
              "      <th></th>\n",
              "      <th></th>\n",
              "      <th></th>\n",
              "      <th></th>\n",
              "      <th></th>\n",
              "      <th></th>\n",
              "    </tr>\n",
              "  </thead>\n",
              "  <tbody>\n",
              "    <tr>\n",
              "      <th>2010-02-03 00:00:00</th>\n",
              "      <td>8000156.0</td>\n",
              "      <td>0.0</td>\n",
              "      <td>NaN</td>\n",
              "      <td>NaN</td>\n",
              "      <td>NaN</td>\n",
              "      <td>NaN</td>\n",
              "      <td>NaN</td>\n",
              "    </tr>\n",
              "    <tr>\n",
              "      <th>2010-02-03 01:00:00</th>\n",
              "      <td>8000156.0</td>\n",
              "      <td>0.0</td>\n",
              "      <td>NaN</td>\n",
              "      <td>NaN</td>\n",
              "      <td>NaN</td>\n",
              "      <td>NaN</td>\n",
              "      <td>NaN</td>\n",
              "    </tr>\n",
              "    <tr>\n",
              "      <th>2010-02-03 02:00:00</th>\n",
              "      <td>8000156.0</td>\n",
              "      <td>0.0</td>\n",
              "      <td>NaN</td>\n",
              "      <td>NaN</td>\n",
              "      <td>NaN</td>\n",
              "      <td>NaN</td>\n",
              "      <td>NaN</td>\n",
              "    </tr>\n",
              "    <tr>\n",
              "      <th>2010-02-03 03:00:00</th>\n",
              "      <td>8000156.0</td>\n",
              "      <td>0.0</td>\n",
              "      <td>NaN</td>\n",
              "      <td>NaN</td>\n",
              "      <td>NaN</td>\n",
              "      <td>NaN</td>\n",
              "      <td>NaN</td>\n",
              "    </tr>\n",
              "    <tr>\n",
              "      <th>2010-02-03 04:00:00</th>\n",
              "      <td>8000156.0</td>\n",
              "      <td>0.0</td>\n",
              "      <td>NaN</td>\n",
              "      <td>NaN</td>\n",
              "      <td>NaN</td>\n",
              "      <td>NaN</td>\n",
              "      <td>NaN</td>\n",
              "    </tr>\n",
              "    <tr>\n",
              "      <th>...</th>\n",
              "      <td>...</td>\n",
              "      <td>...</td>\n",
              "      <td>...</td>\n",
              "      <td>...</td>\n",
              "      <td>...</td>\n",
              "      <td>...</td>\n",
              "      <td>...</td>\n",
              "    </tr>\n",
              "    <tr>\n",
              "      <th>2021-09-30 20:00:00</th>\n",
              "      <td>NaN</td>\n",
              "      <td>0.0</td>\n",
              "      <td>8000156.0</td>\n",
              "      <td>NaN</td>\n",
              "      <td>100.0</td>\n",
              "      <td>7777777.0</td>\n",
              "      <td>NaN</td>\n",
              "    </tr>\n",
              "    <tr>\n",
              "      <th>2021-09-30 21:00:00</th>\n",
              "      <td>NaN</td>\n",
              "      <td>0.0</td>\n",
              "      <td>8000156.0</td>\n",
              "      <td>NaN</td>\n",
              "      <td>100.0</td>\n",
              "      <td>7777777.0</td>\n",
              "      <td>NaN</td>\n",
              "    </tr>\n",
              "    <tr>\n",
              "      <th>2021-09-30 22:00:00</th>\n",
              "      <td>NaN</td>\n",
              "      <td>0.0</td>\n",
              "      <td>8000156.0</td>\n",
              "      <td>NaN</td>\n",
              "      <td>100.0</td>\n",
              "      <td>7777777.0</td>\n",
              "      <td>NaN</td>\n",
              "    </tr>\n",
              "    <tr>\n",
              "      <th>2021-09-30 23:00:00</th>\n",
              "      <td>NaN</td>\n",
              "      <td>0.0</td>\n",
              "      <td>8000156.0</td>\n",
              "      <td>NaN</td>\n",
              "      <td>100.0</td>\n",
              "      <td>7777777.0</td>\n",
              "      <td>NaN</td>\n",
              "    </tr>\n",
              "    <tr>\n",
              "      <th>2021-10-01 00:00:00</th>\n",
              "      <td>NaN</td>\n",
              "      <td>0.0</td>\n",
              "      <td>8000156.0</td>\n",
              "      <td>NaN</td>\n",
              "      <td>100.0</td>\n",
              "      <td>7777777.0</td>\n",
              "      <td>NaN</td>\n",
              "    </tr>\n",
              "  </tbody>\n",
              "</table>\n",
              "<p>100607 rows × 7 columns</p>\n",
              "</div>"
            ],
            "text/plain": [
              "                       RFOBSCD  rain  AMTPRCP_OBSRVT_CD  rain_sum  CVACT_LVL  \\\n",
              "date                                                                           \n",
              "2010-02-03 00:00:00  8000156.0   0.0                NaN       NaN        NaN   \n",
              "2010-02-03 01:00:00  8000156.0   0.0                NaN       NaN        NaN   \n",
              "2010-02-03 02:00:00  8000156.0   0.0                NaN       NaN        NaN   \n",
              "2010-02-03 03:00:00  8000156.0   0.0                NaN       NaN        NaN   \n",
              "2010-02-03 04:00:00  8000156.0   0.0                NaN       NaN        NaN   \n",
              "...                        ...   ...                ...       ...        ...   \n",
              "2021-09-30 20:00:00        NaN   0.0          8000156.0       NaN      100.0   \n",
              "2021-09-30 21:00:00        NaN   0.0          8000156.0       NaN      100.0   \n",
              "2021-09-30 22:00:00        NaN   0.0          8000156.0       NaN      100.0   \n",
              "2021-09-30 23:00:00        NaN   0.0          8000156.0       NaN      100.0   \n",
              "2021-10-01 00:00:00        NaN   0.0          8000156.0       NaN      100.0   \n",
              "\n",
              "                        DAM_CD  CVACT_DT  \n",
              "date                                      \n",
              "2010-02-03 00:00:00        NaN       NaN  \n",
              "2010-02-03 01:00:00        NaN       NaN  \n",
              "2010-02-03 02:00:00        NaN       NaN  \n",
              "2010-02-03 03:00:00        NaN       NaN  \n",
              "2010-02-03 04:00:00        NaN       NaN  \n",
              "...                        ...       ...  \n",
              "2021-09-30 20:00:00  7777777.0       NaN  \n",
              "2021-09-30 21:00:00  7777777.0       NaN  \n",
              "2021-09-30 22:00:00  7777777.0       NaN  \n",
              "2021-09-30 23:00:00  7777777.0       NaN  \n",
              "2021-10-01 00:00:00  7777777.0       NaN  \n",
              "\n",
              "[100607 rows x 7 columns]"
            ]
          },
          "execution_count": 4,
          "metadata": {},
          "output_type": "execute_result"
        }
      ],
      "source": [
        "# 강수량 데이터 통합\n",
        "df21 = pd.read_excel('광주_강수량.xlsx', sheet_name='201002-201704')\n",
        "df22 = pd.read_excel('광주_강수량.xlsx', sheet_name='201705-202109')\n",
        "df21.columns = ['date', 'RFOBSCD', 'rain']\n",
        "df22.columns = ['AMTPRCP_OBSRVT_CD', 'date', 'rain', 'rain_sum', 'CVACT_LVL', 'DAM_CD', 'CVACT_DT']\n",
        "time_00(df21, 'date')\n",
        "time_00(df22, 'date')\n",
        "df21.set_index('date', drop=True, inplace=True)\n",
        "df22.set_index('date', drop=True, inplace=True)\n",
        "df_2 = pd.concat((df21, df22), axis=0)\n",
        "df_2.sort_index()\n",
        "df_2.index = pd.to_datetime(df_2.index.strftime('%Y%m%d%H'), format= '%Y%m%d%H')\n",
        "df_2"
      ]
    },
    {
      "cell_type": "code",
      "execution_count": null,
      "id": "38fcfdf4",
      "metadata": {
        "id": "38fcfdf4"
      },
      "outputs": [],
      "source": [
        "# 데이터 통합을 위해 인덱스 정렬\n",
        "date_index=np.concatenate((df_1.index, df_2.index))\n",
        "indexx = np.sort(date_index)\n",
        "date_idx=pd.date_range(indexx[0], indexx[-1], freq='H')"
      ]
    },
    {
      "cell_type": "code",
      "execution_count": null,
      "id": "a0af9c27",
      "metadata": {
        "id": "a0af9c27"
      },
      "outputs": [],
      "source": [
        "# 인덱스 정리 : 중복 제거, 재인덱싱\n",
        "df_1 = df_1.reindex(date_idx)\n",
        "df_2 = df_2.loc[~df_2.index.duplicated(keep='first')]\n",
        "df_2 = df_2.reindex(date_idx)\n",
        "\n",
        "# 데이터 통합\n",
        "df = pd.concat((df_1[['el']], df_2[['rain']]), axis=1)\n",
        "df.reset_index(drop=False, inplace=True)"
      ]
    },
    {
      "cell_type": "code",
      "execution_count": null,
      "id": "9a6653b1",
      "metadata": {
        "id": "9a6653b1",
        "outputId": "04156f1f-558b-409b-c418-b67e007d3caf"
      },
      "outputs": [
        {
          "data": {
            "text/plain": [
              "<AxesSubplot:>"
            ]
          },
          "execution_count": 7,
          "metadata": {},
          "output_type": "execute_result"
        },
        {
          "data": {
            "image/png": "[encoded data removed]",
            "text/plain": [
              "<Figure size 1800x720 with 2 Axes>"
            ]
          },
          "metadata": {
            "needs_background": "light"
          },
          "output_type": "display_data"
        }
      ],
      "source": [
        "# 결측치 확인\n",
        "%matplotlib inline\n",
        "msno.matrix(df)"
      ]
    },
    {
      "cell_type": "code",
      "execution_count": null,
      "id": "e5336b57",
      "metadata": {
        "id": "e5336b57",
        "outputId": "f908ffc1-31ba-4f6b-fefe-811d80376300"
      },
      "outputs": [
        {
          "data": {
            "text/html": [
              "<div>\n",
              "<style scoped>\n",
              "    .dataframe tbody tr th:only-of-type {\n",
              "        vertical-align: middle;\n",
              "    }\n",
              "\n",
              "    .dataframe tbody tr th {\n",
              "        vertical-align: top;\n",
              "    }\n",
              "\n",
              "    .dataframe thead th {\n",
              "        text-align: right;\n",
              "    }\n",
              "</style>\n",
              "<table border=\"1\" class=\"dataframe\">\n",
              "  <thead>\n",
              "    <tr style=\"text-align: right;\">\n",
              "      <th></th>\n",
              "      <th>el</th>\n",
              "      <th>rain</th>\n",
              "    </tr>\n",
              "  </thead>\n",
              "  <tbody>\n",
              "    <tr>\n",
              "      <th>count</th>\n",
              "      <td>132692.000000</td>\n",
              "      <td>100223.000000</td>\n",
              "    </tr>\n",
              "    <tr>\n",
              "      <th>mean</th>\n",
              "      <td>33.486307</td>\n",
              "      <td>3.945652</td>\n",
              "    </tr>\n",
              "    <tr>\n",
              "      <th>std</th>\n",
              "      <td>1.623584</td>\n",
              "      <td>61.562705</td>\n",
              "    </tr>\n",
              "    <tr>\n",
              "      <th>min</th>\n",
              "      <td>0.000000</td>\n",
              "      <td>0.000000</td>\n",
              "    </tr>\n",
              "    <tr>\n",
              "      <th>25%</th>\n",
              "      <td>33.360000</td>\n",
              "      <td>0.000000</td>\n",
              "    </tr>\n",
              "    <tr>\n",
              "      <th>50%</th>\n",
              "      <td>33.600000</td>\n",
              "      <td>0.000000</td>\n",
              "    </tr>\n",
              "    <tr>\n",
              "      <th>75%</th>\n",
              "      <td>33.802000</td>\n",
              "      <td>0.000000</td>\n",
              "    </tr>\n",
              "    <tr>\n",
              "      <th>max</th>\n",
              "      <td>35.170000</td>\n",
              "      <td>1998.000000</td>\n",
              "    </tr>\n",
              "  </tbody>\n",
              "</table>\n",
              "</div>"
            ],
            "text/plain": [
              "                  el           rain\n",
              "count  132692.000000  100223.000000\n",
              "mean       33.486307       3.945652\n",
              "std         1.623584      61.562705\n",
              "min         0.000000       0.000000\n",
              "25%        33.360000       0.000000\n",
              "50%        33.600000       0.000000\n",
              "75%        33.802000       0.000000\n",
              "max        35.170000    1998.000000"
            ]
          },
          "execution_count": 8,
          "metadata": {},
          "output_type": "execute_result"
        }
      ],
      "source": [
        "# 강수량이 최대 1998까지 존재\n",
        "df.describe()"
      ]
    },
    {
      "cell_type": "code",
      "execution_count": null,
      "id": "fa7bd1de",
      "metadata": {
        "id": "fa7bd1de",
        "outputId": "5b3c7186-f9a7-4b14-b5c6-1053b012a6d9"
      },
      "outputs": [
        {
          "data": {
            "text/html": [
              "<div>\n",
              "<style scoped>\n",
              "    .dataframe tbody tr th:only-of-type {\n",
              "        vertical-align: middle;\n",
              "    }\n",
              "\n",
              "    .dataframe tbody tr th {\n",
              "        vertical-align: top;\n",
              "    }\n",
              "\n",
              "    .dataframe thead th {\n",
              "        text-align: right;\n",
              "    }\n",
              "</style>\n",
              "<table border=\"1\" class=\"dataframe\">\n",
              "  <thead>\n",
              "    <tr style=\"text-align: right;\">\n",
              "      <th></th>\n",
              "      <th>el</th>\n",
              "      <th>rain</th>\n",
              "    </tr>\n",
              "    <tr>\n",
              "      <th>index</th>\n",
              "      <th></th>\n",
              "      <th></th>\n",
              "    </tr>\n",
              "  </thead>\n",
              "  <tbody>\n",
              "    <tr>\n",
              "      <th>2010-02-03 00:00:00</th>\n",
              "      <td>33.292</td>\n",
              "      <td>0.0</td>\n",
              "    </tr>\n",
              "    <tr>\n",
              "      <th>2010-02-03 01:00:00</th>\n",
              "      <td>33.292</td>\n",
              "      <td>0.0</td>\n",
              "    </tr>\n",
              "    <tr>\n",
              "      <th>2010-02-03 02:00:00</th>\n",
              "      <td>33.302</td>\n",
              "      <td>0.0</td>\n",
              "    </tr>\n",
              "    <tr>\n",
              "      <th>2010-02-03 03:00:00</th>\n",
              "      <td>33.302</td>\n",
              "      <td>0.0</td>\n",
              "    </tr>\n",
              "    <tr>\n",
              "      <th>2010-02-03 04:00:00</th>\n",
              "      <td>33.312</td>\n",
              "      <td>0.0</td>\n",
              "    </tr>\n",
              "    <tr>\n",
              "      <th>...</th>\n",
              "      <td>...</td>\n",
              "      <td>...</td>\n",
              "    </tr>\n",
              "    <tr>\n",
              "      <th>2021-09-30 20:00:00</th>\n",
              "      <td>33.820</td>\n",
              "      <td>0.0</td>\n",
              "    </tr>\n",
              "    <tr>\n",
              "      <th>2021-09-30 21:00:00</th>\n",
              "      <td>33.810</td>\n",
              "      <td>0.0</td>\n",
              "    </tr>\n",
              "    <tr>\n",
              "      <th>2021-09-30 22:00:00</th>\n",
              "      <td>33.820</td>\n",
              "      <td>0.0</td>\n",
              "    </tr>\n",
              "    <tr>\n",
              "      <th>2021-09-30 23:00:00</th>\n",
              "      <td>33.810</td>\n",
              "      <td>0.0</td>\n",
              "    </tr>\n",
              "    <tr>\n",
              "      <th>2021-10-01 00:00:00</th>\n",
              "      <td>NaN</td>\n",
              "      <td>0.0</td>\n",
              "    </tr>\n",
              "  </tbody>\n",
              "</table>\n",
              "<p>102193 rows × 2 columns</p>\n",
              "</div>"
            ],
            "text/plain": [
              "                         el  rain\n",
              "index                            \n",
              "2010-02-03 00:00:00  33.292   0.0\n",
              "2010-02-03 01:00:00  33.292   0.0\n",
              "2010-02-03 02:00:00  33.302   0.0\n",
              "2010-02-03 03:00:00  33.302   0.0\n",
              "2010-02-03 04:00:00  33.312   0.0\n",
              "...                     ...   ...\n",
              "2021-09-30 20:00:00  33.820   0.0\n",
              "2021-09-30 21:00:00  33.810   0.0\n",
              "2021-09-30 22:00:00  33.820   0.0\n",
              "2021-09-30 23:00:00  33.810   0.0\n",
              "2021-10-01 00:00:00     NaN   0.0\n",
              "\n",
              "[102193 rows x 2 columns]"
            ]
          },
          "execution_count": 9,
          "metadata": {},
          "output_type": "execute_result"
        }
      ],
      "source": [
        "# 강수량이 0인 경우\n",
        "new_df = df.iloc[df[df['rain'].isnull() != True].index[0]:, :]\n",
        "new_df.set_index('index', drop=True, inplace=True)\n",
        "new_df"
      ]
    },
    {
      "cell_type": "code",
      "execution_count": null,
      "id": "9cb6e039",
      "metadata": {
        "id": "9cb6e039"
      },
      "outputs": [],
      "source": [
        "# 기상청 출처 실제 광주 강수량\n",
        "ex_rain = pd.read_csv('rn_20211010094907.csv', encoding='euc-kr', date_parser='날짜')"
      ]
    },
    {
      "cell_type": "code",
      "execution_count": null,
      "id": "85b4adc1",
      "metadata": {
        "id": "85b4adc1",
        "outputId": "c278ea3c-b67a-4018-e564-974ffef874b1"
      },
      "outputs": [
        {
          "data": {
            "text/html": [
              "<div>\n",
              "<style scoped>\n",
              "    .dataframe tbody tr th:only-of-type {\n",
              "        vertical-align: middle;\n",
              "    }\n",
              "\n",
              "    .dataframe tbody tr th {\n",
              "        vertical-align: top;\n",
              "    }\n",
              "\n",
              "    .dataframe thead th {\n",
              "        text-align: right;\n",
              "    }\n",
              "</style>\n",
              "<table border=\"1\" class=\"dataframe\">\n",
              "  <thead>\n",
              "    <tr style=\"text-align: right;\">\n",
              "      <th></th>\n",
              "      <th>날짜</th>\n",
              "      <th>지점</th>\n",
              "      <th>강수량(mm)</th>\n",
              "    </tr>\n",
              "  </thead>\n",
              "  <tbody>\n",
              "    <tr>\n",
              "      <th>0</th>\n",
              "      <td>2010-01-01</td>\n",
              "      <td>156</td>\n",
              "      <td>0.0</td>\n",
              "    </tr>\n",
              "    <tr>\n",
              "      <th>1</th>\n",
              "      <td>2010-01-02</td>\n",
              "      <td>156</td>\n",
              "      <td>NaN</td>\n",
              "    </tr>\n",
              "    <tr>\n",
              "      <th>2</th>\n",
              "      <td>2010-01-03</td>\n",
              "      <td>156</td>\n",
              "      <td>NaN</td>\n",
              "    </tr>\n",
              "    <tr>\n",
              "      <th>3</th>\n",
              "      <td>2010-01-04</td>\n",
              "      <td>156</td>\n",
              "      <td>5.1</td>\n",
              "    </tr>\n",
              "    <tr>\n",
              "      <th>4</th>\n",
              "      <td>2010-01-05</td>\n",
              "      <td>156</td>\n",
              "      <td>3.6</td>\n",
              "    </tr>\n",
              "    <tr>\n",
              "      <th>...</th>\n",
              "      <td>...</td>\n",
              "      <td>...</td>\n",
              "      <td>...</td>\n",
              "    </tr>\n",
              "    <tr>\n",
              "      <th>4295</th>\n",
              "      <td>2021-10-05</td>\n",
              "      <td>156</td>\n",
              "      <td>NaN</td>\n",
              "    </tr>\n",
              "    <tr>\n",
              "      <th>4296</th>\n",
              "      <td>2021-10-06</td>\n",
              "      <td>156</td>\n",
              "      <td>NaN</td>\n",
              "    </tr>\n",
              "    <tr>\n",
              "      <th>4297</th>\n",
              "      <td>2021-10-07</td>\n",
              "      <td>156</td>\n",
              "      <td>NaN</td>\n",
              "    </tr>\n",
              "    <tr>\n",
              "      <th>4298</th>\n",
              "      <td>2021-10-08</td>\n",
              "      <td>156</td>\n",
              "      <td>0.0</td>\n",
              "    </tr>\n",
              "    <tr>\n",
              "      <th>4299</th>\n",
              "      <td>2021-10-09</td>\n",
              "      <td>156</td>\n",
              "      <td>NaN</td>\n",
              "    </tr>\n",
              "  </tbody>\n",
              "</table>\n",
              "<p>4300 rows × 3 columns</p>\n",
              "</div>"
            ],
            "text/plain": [
              "              날짜   지점  강수량(mm)\n",
              "0     2010-01-01  156      0.0\n",
              "1     2010-01-02  156      NaN\n",
              "2     2010-01-03  156      NaN\n",
              "3     2010-01-04  156      5.1\n",
              "4     2010-01-05  156      3.6\n",
              "...          ...  ...      ...\n",
              "4295  2021-10-05  156      NaN\n",
              "4296  2021-10-06  156      NaN\n",
              "4297  2021-10-07  156      NaN\n",
              "4298  2021-10-08  156      0.0\n",
              "4299  2021-10-09  156      NaN\n",
              "\n",
              "[4300 rows x 3 columns]"
            ]
          },
          "execution_count": 11,
          "metadata": {},
          "output_type": "execute_result"
        }
      ],
      "source": [
        "ex_rain"
      ]
    },
    {
      "cell_type": "code",
      "execution_count": null,
      "id": "94bbe58a",
      "metadata": {
        "id": "94bbe58a",
        "outputId": "e1438985-0c18-42e6-af6d-ffac4c213e2b"
      },
      "outputs": [
        {
          "data": {
            "text/html": [
              "<div>\n",
              "<style scoped>\n",
              "    .dataframe tbody tr th:only-of-type {\n",
              "        vertical-align: middle;\n",
              "    }\n",
              "\n",
              "    .dataframe tbody tr th {\n",
              "        vertical-align: top;\n",
              "    }\n",
              "\n",
              "    .dataframe thead th {\n",
              "        text-align: right;\n",
              "    }\n",
              "</style>\n",
              "<table border=\"1\" class=\"dataframe\">\n",
              "  <thead>\n",
              "    <tr style=\"text-align: right;\">\n",
              "      <th></th>\n",
              "      <th>지점</th>\n",
              "      <th>강수량(mm)</th>\n",
              "    </tr>\n",
              "  </thead>\n",
              "  <tbody>\n",
              "    <tr>\n",
              "      <th>count</th>\n",
              "      <td>4300.0</td>\n",
              "      <td>1831.000000</td>\n",
              "    </tr>\n",
              "    <tr>\n",
              "      <th>mean</th>\n",
              "      <td>156.0</td>\n",
              "      <td>8.858984</td>\n",
              "    </tr>\n",
              "    <tr>\n",
              "      <th>std</th>\n",
              "      <td>0.0</td>\n",
              "      <td>18.880821</td>\n",
              "    </tr>\n",
              "    <tr>\n",
              "      <th>min</th>\n",
              "      <td>156.0</td>\n",
              "      <td>0.000000</td>\n",
              "    </tr>\n",
              "    <tr>\n",
              "      <th>25%</th>\n",
              "      <td>156.0</td>\n",
              "      <td>0.100000</td>\n",
              "    </tr>\n",
              "    <tr>\n",
              "      <th>50%</th>\n",
              "      <td>156.0</td>\n",
              "      <td>1.700000</td>\n",
              "    </tr>\n",
              "    <tr>\n",
              "      <th>75%</th>\n",
              "      <td>156.0</td>\n",
              "      <td>9.000000</td>\n",
              "    </tr>\n",
              "    <tr>\n",
              "      <th>max</th>\n",
              "      <td>156.0</td>\n",
              "      <td>259.500000</td>\n",
              "    </tr>\n",
              "  </tbody>\n",
              "</table>\n",
              "</div>"
            ],
            "text/plain": [
              "           지점      강수량(mm)\n",
              "count  4300.0  1831.000000\n",
              "mean    156.0     8.858984\n",
              "std       0.0    18.880821\n",
              "min     156.0     0.000000\n",
              "25%     156.0     0.100000\n",
              "50%     156.0     1.700000\n",
              "75%     156.0     9.000000\n",
              "max     156.0   259.500000"
            ]
          },
          "execution_count": 12,
          "metadata": {},
          "output_type": "execute_result"
        }
      ],
      "source": [
        "ex_rain.describe()"
      ]
    },
    {
      "cell_type": "code",
      "execution_count": null,
      "id": "54aaef5c",
      "metadata": {
        "id": "54aaef5c",
        "outputId": "b8c58b8f-7f22-4031-8853-f5137168c5db"
      },
      "outputs": [
        {
          "data": {
            "text/plain": [
              "[<matplotlib.lines.Line2D at 0x20729edcc40>]"
            ]
          },
          "execution_count": 13,
          "metadata": {},
          "output_type": "execute_result"
        },
        {
          "data": {
            "image/png": "[encoded data removed]",
            "text/plain": [
              "<Figure size 432x288 with 1 Axes>"
            ]
          },
          "metadata": {
            "needs_background": "light"
          },
          "output_type": "display_data"
        }
      ],
      "source": [
        "plt.plot(ex_rain['강수량(mm)'])"
      ]
    },
    {
      "cell_type": "code",
      "execution_count": null,
      "id": "07917ca4",
      "metadata": {
        "id": "07917ca4",
        "outputId": "bbe8350e-e8ce-4b0d-baf0-454305a75578"
      },
      "outputs": [
        {
          "data": {
            "text/plain": [
              "count    99844.000000\n",
              "mean         0.158498\n",
              "std          1.263673\n",
              "min          0.000000\n",
              "25%          0.000000\n",
              "50%          0.000000\n",
              "75%          0.000000\n",
              "max         58.000000\n",
              "Name: rain, dtype: float64"
            ]
          },
          "execution_count": 14,
          "metadata": {},
          "output_type": "execute_result"
        }
      ],
      "source": [
        "# 기상청 데이터의 최대 강수량을 참고하여 260 미만인 강수량만 추출\n",
        "new_df.rain[new_df.rain.values < 260].describe()"
      ]
    },
    {
      "cell_type": "code",
      "execution_count": null,
      "id": "be2aeace",
      "metadata": {
        "id": "be2aeace",
        "outputId": "ab0de4fc-2de2-4e84-8c1d-28de11222729"
      },
      "outputs": [
        {
          "data": {
            "text/html": [
              "<div>\n",
              "<style scoped>\n",
              "    .dataframe tbody tr th:only-of-type {\n",
              "        vertical-align: middle;\n",
              "    }\n",
              "\n",
              "    .dataframe tbody tr th {\n",
              "        vertical-align: top;\n",
              "    }\n",
              "\n",
              "    .dataframe thead th {\n",
              "        text-align: right;\n",
              "    }\n",
              "</style>\n",
              "<table border=\"1\" class=\"dataframe\">\n",
              "  <thead>\n",
              "    <tr style=\"text-align: right;\">\n",
              "      <th></th>\n",
              "      <th>el</th>\n",
              "      <th>rain</th>\n",
              "    </tr>\n",
              "  </thead>\n",
              "  <tbody>\n",
              "    <tr>\n",
              "      <th>count</th>\n",
              "      <td>102020.00000</td>\n",
              "      <td>99844.000000</td>\n",
              "    </tr>\n",
              "    <tr>\n",
              "      <th>mean</th>\n",
              "      <td>33.62739</td>\n",
              "      <td>0.158498</td>\n",
              "    </tr>\n",
              "    <tr>\n",
              "      <th>std</th>\n",
              "      <td>0.80431</td>\n",
              "      <td>1.263673</td>\n",
              "    </tr>\n",
              "    <tr>\n",
              "      <th>min</th>\n",
              "      <td>0.00000</td>\n",
              "      <td>0.000000</td>\n",
              "    </tr>\n",
              "    <tr>\n",
              "      <th>25%</th>\n",
              "      <td>33.42000</td>\n",
              "      <td>0.000000</td>\n",
              "    </tr>\n",
              "    <tr>\n",
              "      <th>50%</th>\n",
              "      <td>33.64100</td>\n",
              "      <td>0.000000</td>\n",
              "    </tr>\n",
              "    <tr>\n",
              "      <th>75%</th>\n",
              "      <td>33.82000</td>\n",
              "      <td>0.000000</td>\n",
              "    </tr>\n",
              "    <tr>\n",
              "      <th>max</th>\n",
              "      <td>35.17000</td>\n",
              "      <td>58.000000</td>\n",
              "    </tr>\n",
              "  </tbody>\n",
              "</table>\n",
              "</div>"
            ],
            "text/plain": [
              "                 el          rain\n",
              "count  102020.00000  99844.000000\n",
              "mean       33.62739      0.158498\n",
              "std         0.80431      1.263673\n",
              "min         0.00000      0.000000\n",
              "25%        33.42000      0.000000\n",
              "50%        33.64100      0.000000\n",
              "75%        33.82000      0.000000\n",
              "max        35.17000     58.000000"
            ]
          },
          "execution_count": 15,
          "metadata": {},
          "output_type": "execute_result"
        }
      ],
      "source": [
        "for i in new_df.rain[new_df.rain.values >= 260].index:\n",
        "    new_df.loc[i, 'rain'] = np.nan\n",
        "new_df.describe()"
      ]
    },
    {
      "cell_type": "code",
      "execution_count": null,
      "id": "7074d657",
      "metadata": {
        "id": "7074d657",
        "outputId": "d620383d-fa3b-4f0c-a7c5-1ad711017fa5"
      },
      "outputs": [
        {
          "data": {
            "text/plain": [
              "[<matplotlib.lines.Line2D at 0x20729ecd310>]"
            ]
          },
          "execution_count": 16,
          "metadata": {},
          "output_type": "execute_result"
        },
        {
          "data": {
            "image/png": "[encoded data removed]",
            "text/plain": [
              "<Figure size 432x288 with 1 Axes>"
            ]
          },
          "metadata": {
            "needs_background": "light"
          },
          "output_type": "display_data"
        }
      ],
      "source": [
        "# 광주 강수량을 참고한 수자원공사의 강수량\n",
        "plt.plot(new_df.rain)"
      ]
    },
    {
      "cell_type": "code",
      "execution_count": null,
      "id": "3ffa0cf9",
      "metadata": {
        "id": "3ffa0cf9",
        "outputId": "53968a9b-6eac-4b8f-9c3b-ca60bb713c49"
      },
      "outputs": [
        {
          "data": {
            "text/plain": [
              "[<matplotlib.lines.Line2D at 0x2072b7d3820>]"
            ]
          },
          "execution_count": 17,
          "metadata": {},
          "output_type": "execute_result"
        },
        {
          "data": {
            "image/png": "[encoded data removed]",
            "text/plain": [
              "<Figure size 432x288 with 1 Axes>"
            ]
          },
          "metadata": {
            "needs_background": "light"
          },
          "output_type": "display_data"
        }
      ],
      "source": [
        "# 지하수위 데이터 확인\n",
        "plt.plot(new_df.el)"
      ]
    },
    {
      "cell_type": "code",
      "execution_count": null,
      "id": "c397890e",
      "metadata": {
        "id": "c397890e",
        "outputId": "bd1ec403-6065-418d-88ca-4935410d5852"
      },
      "outputs": [
        {
          "data": {
            "text/html": [
              "<div>\n",
              "<style scoped>\n",
              "    .dataframe tbody tr th:only-of-type {\n",
              "        vertical-align: middle;\n",
              "    }\n",
              "\n",
              "    .dataframe tbody tr th {\n",
              "        vertical-align: top;\n",
              "    }\n",
              "\n",
              "    .dataframe thead th {\n",
              "        text-align: right;\n",
              "    }\n",
              "</style>\n",
              "<table border=\"1\" class=\"dataframe\">\n",
              "  <thead>\n",
              "    <tr style=\"text-align: right;\">\n",
              "      <th></th>\n",
              "      <th>el</th>\n",
              "      <th>rain</th>\n",
              "    </tr>\n",
              "    <tr>\n",
              "      <th>index</th>\n",
              "      <th></th>\n",
              "      <th></th>\n",
              "    </tr>\n",
              "  </thead>\n",
              "  <tbody>\n",
              "    <tr>\n",
              "      <th>2010-10-20 12:00:00</th>\n",
              "      <td>0.08</td>\n",
              "      <td>0.0</td>\n",
              "    </tr>\n",
              "    <tr>\n",
              "      <th>2010-10-20 13:00:00</th>\n",
              "      <td>0.05</td>\n",
              "      <td>0.0</td>\n",
              "    </tr>\n",
              "    <tr>\n",
              "      <th>2010-10-20 14:00:00</th>\n",
              "      <td>0.02</td>\n",
              "      <td>0.0</td>\n",
              "    </tr>\n",
              "    <tr>\n",
              "      <th>2010-10-20 15:00:00</th>\n",
              "      <td>0.00</td>\n",
              "      <td>0.0</td>\n",
              "    </tr>\n",
              "    <tr>\n",
              "      <th>2010-10-20 16:00:00</th>\n",
              "      <td>0.00</td>\n",
              "      <td>0.0</td>\n",
              "    </tr>\n",
              "    <tr>\n",
              "      <th>2010-10-20 17:00:00</th>\n",
              "      <td>0.00</td>\n",
              "      <td>0.0</td>\n",
              "    </tr>\n",
              "    <tr>\n",
              "      <th>2010-10-20 18:00:00</th>\n",
              "      <td>0.01</td>\n",
              "      <td>0.0</td>\n",
              "    </tr>\n",
              "    <tr>\n",
              "      <th>2010-10-20 19:00:00</th>\n",
              "      <td>0.03</td>\n",
              "      <td>0.0</td>\n",
              "    </tr>\n",
              "    <tr>\n",
              "      <th>2010-10-20 20:00:00</th>\n",
              "      <td>0.04</td>\n",
              "      <td>0.0</td>\n",
              "    </tr>\n",
              "    <tr>\n",
              "      <th>2010-10-20 21:00:00</th>\n",
              "      <td>0.04</td>\n",
              "      <td>0.0</td>\n",
              "    </tr>\n",
              "    <tr>\n",
              "      <th>2010-10-20 22:00:00</th>\n",
              "      <td>0.04</td>\n",
              "      <td>0.0</td>\n",
              "    </tr>\n",
              "    <tr>\n",
              "      <th>2010-10-20 23:00:00</th>\n",
              "      <td>0.04</td>\n",
              "      <td>0.0</td>\n",
              "    </tr>\n",
              "    <tr>\n",
              "      <th>2010-10-21 00:00:00</th>\n",
              "      <td>0.05</td>\n",
              "      <td>0.0</td>\n",
              "    </tr>\n",
              "    <tr>\n",
              "      <th>2010-10-21 01:00:00</th>\n",
              "      <td>0.04</td>\n",
              "      <td>0.0</td>\n",
              "    </tr>\n",
              "    <tr>\n",
              "      <th>2010-10-21 02:00:00</th>\n",
              "      <td>0.05</td>\n",
              "      <td>0.0</td>\n",
              "    </tr>\n",
              "    <tr>\n",
              "      <th>2010-10-21 03:00:00</th>\n",
              "      <td>0.05</td>\n",
              "      <td>0.0</td>\n",
              "    </tr>\n",
              "    <tr>\n",
              "      <th>2010-10-21 04:00:00</th>\n",
              "      <td>0.06</td>\n",
              "      <td>0.0</td>\n",
              "    </tr>\n",
              "    <tr>\n",
              "      <th>2010-10-21 05:00:00</th>\n",
              "      <td>0.07</td>\n",
              "      <td>0.0</td>\n",
              "    </tr>\n",
              "    <tr>\n",
              "      <th>2010-10-21 06:00:00</th>\n",
              "      <td>0.07</td>\n",
              "      <td>0.0</td>\n",
              "    </tr>\n",
              "    <tr>\n",
              "      <th>2010-10-21 07:00:00</th>\n",
              "      <td>0.08</td>\n",
              "      <td>0.0</td>\n",
              "    </tr>\n",
              "    <tr>\n",
              "      <th>2010-10-21 08:00:00</th>\n",
              "      <td>0.08</td>\n",
              "      <td>0.0</td>\n",
              "    </tr>\n",
              "    <tr>\n",
              "      <th>2010-10-21 09:00:00</th>\n",
              "      <td>0.10</td>\n",
              "      <td>0.0</td>\n",
              "    </tr>\n",
              "    <tr>\n",
              "      <th>2010-10-21 10:00:00</th>\n",
              "      <td>0.09</td>\n",
              "      <td>0.0</td>\n",
              "    </tr>\n",
              "    <tr>\n",
              "      <th>2010-10-21 11:00:00</th>\n",
              "      <td>0.07</td>\n",
              "      <td>0.0</td>\n",
              "    </tr>\n",
              "    <tr>\n",
              "      <th>2010-10-21 12:00:00</th>\n",
              "      <td>0.06</td>\n",
              "      <td>0.0</td>\n",
              "    </tr>\n",
              "    <tr>\n",
              "      <th>2010-10-21 13:00:00</th>\n",
              "      <td>0.04</td>\n",
              "      <td>0.0</td>\n",
              "    </tr>\n",
              "    <tr>\n",
              "      <th>2010-10-21 14:00:00</th>\n",
              "      <td>0.03</td>\n",
              "      <td>0.0</td>\n",
              "    </tr>\n",
              "    <tr>\n",
              "      <th>2010-10-21 15:00:00</th>\n",
              "      <td>0.01</td>\n",
              "      <td>0.0</td>\n",
              "    </tr>\n",
              "    <tr>\n",
              "      <th>2010-10-21 16:00:00</th>\n",
              "      <td>0.00</td>\n",
              "      <td>0.0</td>\n",
              "    </tr>\n",
              "    <tr>\n",
              "      <th>2010-10-21 17:00:00</th>\n",
              "      <td>0.01</td>\n",
              "      <td>0.0</td>\n",
              "    </tr>\n",
              "    <tr>\n",
              "      <th>2010-10-21 18:00:00</th>\n",
              "      <td>0.02</td>\n",
              "      <td>0.0</td>\n",
              "    </tr>\n",
              "    <tr>\n",
              "      <th>2010-10-21 19:00:00</th>\n",
              "      <td>0.02</td>\n",
              "      <td>0.0</td>\n",
              "    </tr>\n",
              "    <tr>\n",
              "      <th>2010-10-21 20:00:00</th>\n",
              "      <td>0.04</td>\n",
              "      <td>0.0</td>\n",
              "    </tr>\n",
              "    <tr>\n",
              "      <th>2010-10-21 21:00:00</th>\n",
              "      <td>0.04</td>\n",
              "      <td>0.0</td>\n",
              "    </tr>\n",
              "    <tr>\n",
              "      <th>2010-10-21 22:00:00</th>\n",
              "      <td>0.03</td>\n",
              "      <td>0.0</td>\n",
              "    </tr>\n",
              "    <tr>\n",
              "      <th>2010-10-21 23:00:00</th>\n",
              "      <td>0.03</td>\n",
              "      <td>0.0</td>\n",
              "    </tr>\n",
              "    <tr>\n",
              "      <th>2010-10-22 00:00:00</th>\n",
              "      <td>0.03</td>\n",
              "      <td>0.0</td>\n",
              "    </tr>\n",
              "    <tr>\n",
              "      <th>2010-10-22 01:00:00</th>\n",
              "      <td>0.03</td>\n",
              "      <td>0.0</td>\n",
              "    </tr>\n",
              "    <tr>\n",
              "      <th>2010-10-22 02:00:00</th>\n",
              "      <td>0.07</td>\n",
              "      <td>0.0</td>\n",
              "    </tr>\n",
              "    <tr>\n",
              "      <th>2010-10-22 03:00:00</th>\n",
              "      <td>0.04</td>\n",
              "      <td>0.0</td>\n",
              "    </tr>\n",
              "    <tr>\n",
              "      <th>2010-10-22 04:00:00</th>\n",
              "      <td>0.05</td>\n",
              "      <td>0.0</td>\n",
              "    </tr>\n",
              "    <tr>\n",
              "      <th>2010-10-22 05:00:00</th>\n",
              "      <td>0.06</td>\n",
              "      <td>0.0</td>\n",
              "    </tr>\n",
              "    <tr>\n",
              "      <th>2010-10-22 06:00:00</th>\n",
              "      <td>0.06</td>\n",
              "      <td>0.0</td>\n",
              "    </tr>\n",
              "    <tr>\n",
              "      <th>2010-10-22 07:00:00</th>\n",
              "      <td>0.06</td>\n",
              "      <td>NaN</td>\n",
              "    </tr>\n",
              "    <tr>\n",
              "      <th>2010-10-22 08:00:00</th>\n",
              "      <td>0.06</td>\n",
              "      <td>NaN</td>\n",
              "    </tr>\n",
              "    <tr>\n",
              "      <th>2010-10-22 09:00:00</th>\n",
              "      <td>0.07</td>\n",
              "      <td>0.0</td>\n",
              "    </tr>\n",
              "    <tr>\n",
              "      <th>2010-10-22 10:00:00</th>\n",
              "      <td>0.07</td>\n",
              "      <td>0.0</td>\n",
              "    </tr>\n",
              "  </tbody>\n",
              "</table>\n",
              "</div>"
            ],
            "text/plain": [
              "                       el  rain\n",
              "index                          \n",
              "2010-10-20 12:00:00  0.08   0.0\n",
              "2010-10-20 13:00:00  0.05   0.0\n",
              "2010-10-20 14:00:00  0.02   0.0\n",
              "2010-10-20 15:00:00  0.00   0.0\n",
              "2010-10-20 16:00:00  0.00   0.0\n",
              "2010-10-20 17:00:00  0.00   0.0\n",
              "2010-10-20 18:00:00  0.01   0.0\n",
              "2010-10-20 19:00:00  0.03   0.0\n",
              "2010-10-20 20:00:00  0.04   0.0\n",
              "2010-10-20 21:00:00  0.04   0.0\n",
              "2010-10-20 22:00:00  0.04   0.0\n",
              "2010-10-20 23:00:00  0.04   0.0\n",
              "2010-10-21 00:00:00  0.05   0.0\n",
              "2010-10-21 01:00:00  0.04   0.0\n",
              "2010-10-21 02:00:00  0.05   0.0\n",
              "2010-10-21 03:00:00  0.05   0.0\n",
              "2010-10-21 04:00:00  0.06   0.0\n",
              "2010-10-21 05:00:00  0.07   0.0\n",
              "2010-10-21 06:00:00  0.07   0.0\n",
              "2010-10-21 07:00:00  0.08   0.0\n",
              "2010-10-21 08:00:00  0.08   0.0\n",
              "2010-10-21 09:00:00  0.10   0.0\n",
              "2010-10-21 10:00:00  0.09   0.0\n",
              "2010-10-21 11:00:00  0.07   0.0\n",
              "2010-10-21 12:00:00  0.06   0.0\n",
              "2010-10-21 13:00:00  0.04   0.0\n",
              "2010-10-21 14:00:00  0.03   0.0\n",
              "2010-10-21 15:00:00  0.01   0.0\n",
              "2010-10-21 16:00:00  0.00   0.0\n",
              "2010-10-21 17:00:00  0.01   0.0\n",
              "2010-10-21 18:00:00  0.02   0.0\n",
              "2010-10-21 19:00:00  0.02   0.0\n",
              "2010-10-21 20:00:00  0.04   0.0\n",
              "2010-10-21 21:00:00  0.04   0.0\n",
              "2010-10-21 22:00:00  0.03   0.0\n",
              "2010-10-21 23:00:00  0.03   0.0\n",
              "2010-10-22 00:00:00  0.03   0.0\n",
              "2010-10-22 01:00:00  0.03   0.0\n",
              "2010-10-22 02:00:00  0.07   0.0\n",
              "2010-10-22 03:00:00  0.04   0.0\n",
              "2010-10-22 04:00:00  0.05   0.0\n",
              "2010-10-22 05:00:00  0.06   0.0\n",
              "2010-10-22 06:00:00  0.06   0.0\n",
              "2010-10-22 07:00:00  0.06   NaN\n",
              "2010-10-22 08:00:00  0.06   NaN\n",
              "2010-10-22 09:00:00  0.07   0.0\n",
              "2010-10-22 10:00:00  0.07   0.0"
            ]
          },
          "execution_count": 18,
          "metadata": {},
          "output_type": "execute_result"
        }
      ],
      "source": [
        "new_df[new_df.el <= 1.0]"
      ]
    },
    {
      "cell_type": "markdown",
      "source": [
        "# 기간별 지하수위 데이터 확인"
      ],
      "metadata": {
        "id": "aSEFVkEm5lmm"
      },
      "id": "aSEFVkEm5lmm"
    },
    {
      "cell_type": "code",
      "execution_count": null,
      "id": "cf267f95",
      "metadata": {
        "id": "cf267f95",
        "outputId": "f779476e-4be9-4140-ddf0-e1f9dd6b69cf"
      },
      "outputs": [
        {
          "data": {
            "text/plain": [
              "[<matplotlib.lines.Line2D at 0x2072c93b8e0>]"
            ]
          },
          "execution_count": 19,
          "metadata": {},
          "output_type": "execute_result"
        },
        {
          "data": {
            "image/png": "[encoded data removed]",
            "text/plain": [
              "<Figure size 432x288 with 1 Axes>"
            ]
          },
          "metadata": {
            "needs_background": "light"
          },
          "output_type": "display_data"
        }
      ],
      "source": [
        "plt.plot(new_df.el[(new_df.index >= '2010-01-01') & (new_df.index < '2011-01-01')])"
      ]
    },
    {
      "cell_type": "code",
      "execution_count": null,
      "id": "f4aff72b",
      "metadata": {
        "id": "f4aff72b",
        "outputId": "a0a9ca7d-28a3-4e64-d6e9-96d204122696"
      },
      "outputs": [
        {
          "data": {
            "text/plain": [
              "[<matplotlib.lines.Line2D at 0x2072ca03e80>]"
            ]
          },
          "execution_count": 20,
          "metadata": {},
          "output_type": "execute_result"
        },
        {
          "data": {
            "image/png": "[encoded data removed]",
            "text/plain": [
              "<Figure size 432x288 with 1 Axes>"
            ]
          },
          "metadata": {
            "needs_background": "light"
          },
          "output_type": "display_data"
        }
      ],
      "source": [
        "plt.plot(new_df.el[(new_df.index >= '2011-01-01') & (new_df.index < '2012-01-01')])"
      ]
    },
    {
      "cell_type": "code",
      "execution_count": null,
      "id": "cd256495",
      "metadata": {
        "id": "cd256495",
        "outputId": "a21cf09f-cda1-43cc-9289-38feaf8d2bea"
      },
      "outputs": [
        {
          "data": {
            "text/plain": [
              "[<matplotlib.lines.Line2D at 0x2072b087b80>]"
            ]
          },
          "execution_count": 21,
          "metadata": {},
          "output_type": "execute_result"
        },
        {
          "data": {
            "image/png": "[encoded data removed]",
            "text/plain": [
              "<Figure size 432x288 with 1 Axes>"
            ]
          },
          "metadata": {
            "needs_background": "light"
          },
          "output_type": "display_data"
        }
      ],
      "source": [
        "plt.plot(new_df.el[(new_df.index >= '2012-01-01') & (new_df.index < '2013-01-01')])"
      ]
    },
    {
      "cell_type": "code",
      "execution_count": null,
      "id": "24c04f78",
      "metadata": {
        "id": "24c04f78",
        "outputId": "21b2b6e4-400f-47c7-d718-3b99f29bfd43"
      },
      "outputs": [
        {
          "data": {
            "text/plain": [
              "[<matplotlib.lines.Line2D at 0x2072a2608b0>]"
            ]
          },
          "execution_count": 22,
          "metadata": {},
          "output_type": "execute_result"
        },
        {
          "data": {
            "image/png": "[encoded data removed]",
            "text/plain": [
              "<Figure size 432x288 with 1 Axes>"
            ]
          },
          "metadata": {
            "needs_background": "light"
          },
          "output_type": "display_data"
        }
      ],
      "source": [
        "plt.plot(new_df.el[(new_df.index >= '2013-01-01') & (new_df.index < '2014-01-01')])"
      ]
    },
    {
      "cell_type": "code",
      "execution_count": null,
      "id": "5aa98b59",
      "metadata": {
        "id": "5aa98b59",
        "outputId": "075adf05-101a-4446-bff2-73e7e758829e"
      },
      "outputs": [
        {
          "data": {
            "text/plain": [
              "[<matplotlib.lines.Line2D at 0x2072b6d71f0>]"
            ]
          },
          "execution_count": 23,
          "metadata": {},
          "output_type": "execute_result"
        },
        {
          "data": {
            "image/png": "[encoded data removed]",
            "text/plain": [
              "<Figure size 432x288 with 1 Axes>"
            ]
          },
          "metadata": {
            "needs_background": "light"
          },
          "output_type": "display_data"
        }
      ],
      "source": [
        "plt.plot(new_df.el[(new_df.index >= '2014-01-01') & (new_df.index < '2015-01-01')])"
      ]
    },
    {
      "cell_type": "code",
      "execution_count": null,
      "id": "ee64d8ef",
      "metadata": {
        "id": "ee64d8ef",
        "outputId": "bb0cef79-e06a-4afb-e3c6-1bdc12ca5206"
      },
      "outputs": [
        {
          "data": {
            "text/plain": [
              "[<matplotlib.lines.Line2D at 0x2072bb803d0>]"
            ]
          },
          "execution_count": 24,
          "metadata": {},
          "output_type": "execute_result"
        },
        {
          "data": {
            "image/png": "[encoded data removed]",
            "text/plain": [
              "<Figure size 432x288 with 1 Axes>"
            ]
          },
          "metadata": {
            "needs_background": "light"
          },
          "output_type": "display_data"
        }
      ],
      "source": [
        "plt.plot(new_df.el[(new_df.index >= '2015-01-01') & (new_df.index < '2016-01-01')])"
      ]
    },
    {
      "cell_type": "code",
      "execution_count": null,
      "id": "dbfe4309",
      "metadata": {
        "id": "dbfe4309",
        "outputId": "692fc5c4-3d1a-40fe-aca3-fdc832ca9ce2"
      },
      "outputs": [
        {
          "data": {
            "text/plain": [
              "[<matplotlib.lines.Line2D at 0x2072cc8db20>]"
            ]
          },
          "execution_count": 25,
          "metadata": {},
          "output_type": "execute_result"
        },
        {
          "data": {
            "image/png": "[encoded data removed]",
            "text/plain": [
              "<Figure size 432x288 with 1 Axes>"
            ]
          },
          "metadata": {
            "needs_background": "light"
          },
          "output_type": "display_data"
        }
      ],
      "source": [
        "plt.plot(new_df.el[(new_df.index >= '2016-01-01') & (new_df.index < '2017-01-01')])"
      ]
    },
    {
      "cell_type": "code",
      "execution_count": null,
      "id": "3badbeb0",
      "metadata": {
        "id": "3badbeb0",
        "outputId": "d333c47d-22ba-4d43-9ffc-169bfa829c33"
      },
      "outputs": [
        {
          "data": {
            "text/plain": [
              "[<matplotlib.lines.Line2D at 0x2072a44ad30>]"
            ]
          },
          "execution_count": 26,
          "metadata": {},
          "output_type": "execute_result"
        },
        {
          "data": {
            "image/png": "[encoded data removed]",
            "text/plain": [
              "<Figure size 432x288 with 1 Axes>"
            ]
          },
          "metadata": {
            "needs_background": "light"
          },
          "output_type": "display_data"
        }
      ],
      "source": [
        "plt.plot(new_df.el[(new_df.index >= '2017-01-01') & (new_df.index < '2018-01-01')])"
      ]
    },
    {
      "cell_type": "code",
      "execution_count": null,
      "id": "7ca6bdee",
      "metadata": {
        "id": "7ca6bdee",
        "outputId": "c5ed214d-0f9d-489d-bbc8-a70f6377e5bc"
      },
      "outputs": [
        {
          "data": {
            "text/plain": [
              "[<matplotlib.lines.Line2D at 0x2072c1a3f40>]"
            ]
          },
          "execution_count": 27,
          "metadata": {},
          "output_type": "execute_result"
        },
        {
          "data": {
            "image/png": "[encoded data removed]",
            "text/plain": [
              "<Figure size 432x288 with 1 Axes>"
            ]
          },
          "metadata": {
            "needs_background": "light"
          },
          "output_type": "display_data"
        }
      ],
      "source": [
        "plt.plot(new_df.el[(new_df.index >= '2018-01-01') & (new_df.index < '2019-01-01')])"
      ]
    },
    {
      "cell_type": "code",
      "execution_count": null,
      "id": "bf9345b7",
      "metadata": {
        "id": "bf9345b7",
        "outputId": "06604afe-7cfc-4691-e458-565b77fee6f7"
      },
      "outputs": [
        {
          "data": {
            "text/plain": [
              "[<matplotlib.lines.Line2D at 0x2072bc08c70>]"
            ]
          },
          "execution_count": 28,
          "metadata": {},
          "output_type": "execute_result"
        },
        {
          "data": {
            "image/png": "[encoded data removed]",
            "text/plain": [
              "<Figure size 432x288 with 1 Axes>"
            ]
          },
          "metadata": {
            "needs_background": "light"
          },
          "output_type": "display_data"
        }
      ],
      "source": [
        "plt.plot(new_df.el[(new_df.index >= '2019-01-01') & (new_df.index < '2020-01-01')])"
      ]
    },
    {
      "cell_type": "code",
      "execution_count": null,
      "id": "6f53a500",
      "metadata": {
        "id": "6f53a500",
        "outputId": "15d731e3-d859-493c-cd59-bed6eb86943f"
      },
      "outputs": [
        {
          "data": {
            "text/plain": [
              "[<matplotlib.lines.Line2D at 0x2072b6fd3d0>]"
            ]
          },
          "execution_count": 29,
          "metadata": {},
          "output_type": "execute_result"
        },
        {
          "data": {
            "image/png": "[encoded data removed]",
            "text/plain": [
              "<Figure size 432x288 with 1 Axes>"
            ]
          },
          "metadata": {
            "needs_background": "light"
          },
          "output_type": "display_data"
        }
      ],
      "source": [
        "plt.plot(new_df.el[(new_df.index >= '2020-01-01') & (new_df.index < '2021-01-01')])"
      ]
    },
    {
      "cell_type": "code",
      "execution_count": null,
      "id": "b32dc9e5",
      "metadata": {
        "id": "b32dc9e5",
        "outputId": "08681938-3ce6-4a08-edaa-ea9a48dc9842"
      },
      "outputs": [
        {
          "data": {
            "text/plain": [
              "[<matplotlib.lines.Line2D at 0x2072bb387c0>]"
            ]
          },
          "execution_count": 30,
          "metadata": {},
          "output_type": "execute_result"
        },
        {
          "data": {
            "image/png": "[encoded data removed]",
            "text/plain": [
              "<Figure size 432x288 with 1 Axes>"
            ]
          },
          "metadata": {
            "needs_background": "light"
          },
          "output_type": "display_data"
        }
      ],
      "source": [
        "plt.plot(new_df.el[(new_df.index >= '2021-01-01') & (new_df.index < '2022-01-01')])"
      ]
    },
    {
      "cell_type": "code",
      "execution_count": null,
      "id": "f20e1ed9",
      "metadata": {
        "id": "f20e1ed9"
      },
      "outputs": [],
      "source": [
        "# 이동평균법을 이용한 데이터 정제\n",
        "for n, term in new_df.groupby(by=[new_df.index.year, new_df.index.month, new_df.index.day]):\n",
        "    for i in term[(term.el.values <= term.el.mean()*0.99) | (term.el.values < 20.0)].index:\n",
        "        new_df.loc[i, 'el'] = np.nan"
      ]
    },
    {
      "cell_type": "code",
      "execution_count": null,
      "id": "e772d3dc",
      "metadata": {
        "id": "e772d3dc",
        "outputId": "ff80be4b-3580-4570-a0ad-66205f6afcfe"
      },
      "outputs": [
        {
          "data": {
            "text/plain": [
              "<AxesSubplot:>"
            ]
          },
          "execution_count": 32,
          "metadata": {},
          "output_type": "execute_result"
        },
        {
          "data": {
            "image/png": "[encoded data removed]",
            "text/plain": [
              "<Figure size 1800x720 with 2 Axes>"
            ]
          },
          "metadata": {
            "needs_background": "light"
          },
          "output_type": "display_data"
        }
      ],
      "source": [
        "new_df = new_df.interpolate(method='linear')\n",
        "msno.matrix(new_df)"
      ]
    },
    {
      "cell_type": "code",
      "execution_count": null,
      "id": "f3549aa8",
      "metadata": {
        "id": "f3549aa8",
        "outputId": "73bb1a0b-ccc4-48f0-8156-b9ec30a0bba8"
      },
      "outputs": [
        {
          "data": {
            "text/html": [
              "<div>\n",
              "<style scoped>\n",
              "    .dataframe tbody tr th:only-of-type {\n",
              "        vertical-align: middle;\n",
              "    }\n",
              "\n",
              "    .dataframe tbody tr th {\n",
              "        vertical-align: top;\n",
              "    }\n",
              "\n",
              "    .dataframe thead th {\n",
              "        text-align: right;\n",
              "    }\n",
              "</style>\n",
              "<table border=\"1\" class=\"dataframe\">\n",
              "  <thead>\n",
              "    <tr style=\"text-align: right;\">\n",
              "      <th></th>\n",
              "      <th>el</th>\n",
              "      <th>rain</th>\n",
              "    </tr>\n",
              "  </thead>\n",
              "  <tbody>\n",
              "    <tr>\n",
              "      <th>count</th>\n",
              "      <td>102193.000000</td>\n",
              "      <td>102193.000000</td>\n",
              "    </tr>\n",
              "    <tr>\n",
              "      <th>mean</th>\n",
              "      <td>33.644584</td>\n",
              "      <td>0.157279</td>\n",
              "    </tr>\n",
              "    <tr>\n",
              "      <th>std</th>\n",
              "      <td>0.330883</td>\n",
              "      <td>1.254544</td>\n",
              "    </tr>\n",
              "    <tr>\n",
              "      <th>min</th>\n",
              "      <td>32.510000</td>\n",
              "      <td>0.000000</td>\n",
              "    </tr>\n",
              "    <tr>\n",
              "      <th>25%</th>\n",
              "      <td>33.420000</td>\n",
              "      <td>0.000000</td>\n",
              "    </tr>\n",
              "    <tr>\n",
              "      <th>50%</th>\n",
              "      <td>33.642000</td>\n",
              "      <td>0.000000</td>\n",
              "    </tr>\n",
              "    <tr>\n",
              "      <th>75%</th>\n",
              "      <td>33.820000</td>\n",
              "      <td>0.000000</td>\n",
              "    </tr>\n",
              "    <tr>\n",
              "      <th>max</th>\n",
              "      <td>35.170000</td>\n",
              "      <td>58.000000</td>\n",
              "    </tr>\n",
              "  </tbody>\n",
              "</table>\n",
              "</div>"
            ],
            "text/plain": [
              "                  el           rain\n",
              "count  102193.000000  102193.000000\n",
              "mean       33.644584       0.157279\n",
              "std         0.330883       1.254544\n",
              "min        32.510000       0.000000\n",
              "25%        33.420000       0.000000\n",
              "50%        33.642000       0.000000\n",
              "75%        33.820000       0.000000\n",
              "max        35.170000      58.000000"
            ]
          },
          "execution_count": 33,
          "metadata": {},
          "output_type": "execute_result"
        }
      ],
      "source": [
        "new_df.describe()"
      ]
    },
    {
      "cell_type": "code",
      "execution_count": null,
      "id": "b1f213f0",
      "metadata": {
        "id": "b1f213f0"
      },
      "outputs": [],
      "source": [
        "# 정제 데이터 저장\n",
        "new_df.to_csv('engineered_gj.csv', index=True, encoding='euc-kr')"
      ]
    },
    {
      "cell_type": "code",
      "execution_count": null,
      "id": "374ed7fa",
      "metadata": {
        "id": "374ed7fa"
      },
      "outputs": [],
      "source": [
        "# convert series to supervised learning lstm 사용 위해 시계열 시퀀스 데이터로 변환\n",
        "def series_to_supervised(data, n_in=1, n_out=1, dropnan=True):\n",
        "    n_vars = 1 if type(data) is list else data.shape[1]\n",
        "    temp = DataFrame(data)\n",
        "    cols, names = list(), list()\n",
        "    \n",
        "    # input sequence (t-n, ... t-1) 시퀀스 데이터 추가하기\n",
        "    for i in range(n_in, 0, -1):\n",
        "        cols.append(temp.shift(i))\n",
        "        names += [('var%d(t-%d)' % (j+1, i)) for j in range(n_vars)]\n",
        "\n",
        "    # forecast sequence (t, t+1, ... t+n) 시퀀스 예측 데이터 추가하기\n",
        "    for i in range(0, n_out):\n",
        "        cols.append(temp.shift(-i)) # 변환, 컬럼 추가\n",
        "        if i == 0:\n",
        "            names += [('var%d(t)' % (j+1)) for j in range(n_vars)] # names에 예측 데이터 i = 0인 경우\n",
        "        else:\n",
        "            names += [('var%d(t+%d)' % (j+1, i)) for j in range(n_vars)] # names에 예측 데이터\n",
        "\n",
        "    # put it all together\n",
        "    agg = concat(cols, axis=1) # 데이터 합치기\n",
        "    agg.columns = names\n",
        "\n",
        "    # drop rows with NaN values null값이 있는 행 지우기\n",
        "    if dropnan:\n",
        "        agg.dropna(inplace=True)\n",
        "    return agg"
      ]
    },
    {
      "cell_type": "code",
      "execution_count": null,
      "id": "1781c47c",
      "metadata": {
        "id": "1781c47c"
      },
      "outputs": [],
      "source": [
        "def model_compile(train_X):\n",
        "    # design network 모델 파라미터 설정\n",
        "    model = Sequential() # 시퀀스 데이터 사용할 모델\n",
        "    model.add(LSTM(60, activation = 'tanh', input_shape=(train_X.shape[1], train_X.shape[2]))) # lstm모델 설정(층 : 60, 활성함수 : 'tanh', 입력 데이터 형태(input_shape)\n",
        "    model.add(Dropout(0.5)) # 과적합 방지를 위한 피쳐 드롭아웃 설정(모델의 50%)\n",
        "    model.add(Dense(1, activation = 'linear')) # dense 설정(활성함수 = 'linear')\n",
        "    model.compile(loss='mse', optimizer='adam', metrics=['acc', 'mae']) # 모델 컴파일(오차함수 : loss, 옵티마이저 = 'adam', 정확도)\n",
        "    model.summary()\n",
        "    print('loss:오차  - acc:  - mae:  - val_loss:  - val_acc:  - val_mae: ')\n",
        "    return model"
      ]
    },
    {
      "cell_type": "code",
      "execution_count": null,
      "id": "26c5ebfb",
      "metadata": {
        "id": "26c5ebfb"
      },
      "outputs": [],
      "source": [
        "# 결과값 평가를 위해 \n",
        "def result_sum(xhat, yhat, train_X, train_y, test_X, test_y):\n",
        "    # invert scaling for forecast 스케일링 값을 원래 값으로 복구\n",
        "    inv_xhat = np.concatenate((train_X, xhat), axis=1) # 데이터 합치기\n",
        "    inv_xhat = scaler.inverse_transform(inv_xhat) # 복구\n",
        "    inv_xhat = inv_xhat[:,-1]\n",
        "\n",
        "    inv_yhat = np.concatenate((test_X, yhat), axis=1) # 데이터 합치기\n",
        "    inv_yhat = scaler.inverse_transform(inv_yhat) # 복구\n",
        "    inv_yhat = inv_yhat[:,-1]\n",
        "\n",
        "    # invert scaling for actual\n",
        "    train_y = train_y.reshape((len(train_y), 1)) # 원래의 데이터 형태로 복구\n",
        "    inv_x = np.concatenate((train_X, train_y), axis=1)\n",
        "    inv_x = scaler.inverse_transform(inv_x)\n",
        "    inv_x = inv_x[:, -1]\n",
        "\n",
        "    test_y = test_y.reshape((len(test_y), 1))\n",
        "    inv_y = np.concatenate((test_X, test_y), axis=1)\n",
        "    inv_y = scaler.inverse_transform(inv_y)\n",
        "    inv_y = inv_y[:, -1]\n",
        "\n",
        "    # calculate RMSE\n",
        "    trainRMSE = sqrt(mean_squared_error(inv_x, inv_xhat))\n",
        "    trainR2 = r2_score(inv_x, inv_xhat)\n",
        "    print('Train RMSE: %.3f' % trainRMSE)\n",
        "    print('Train R2: %.3f' % trainR2)\n",
        "    testRMSE = sqrt(mean_squared_error(inv_y, inv_yhat))\n",
        "    testR2 = r2_score(inv_y, inv_yhat)\n",
        "    print('Test RMSE: %.3f' % testRMSE)\n",
        "    print('Test R2: %.3f' % testR2)\n",
        "\n",
        "    \n",
        "    # plot baseline and prediction 실제, 예측, 검증 데이터 관련 그래프\n",
        "    plt.rcParams['figure.figsize'] = (10, 6)\n",
        "    plt.plot(inv_y, label='actual')\n",
        "    plt.plot(inv_yhat, label='test')\n",
        "    plt.xlabel('DATE')\n",
        "    plt.ylabel('PRED')\n",
        "    plt.legend()\n",
        "    plt.show()\n",
        "    \n",
        "    return testR2"
      ]
    },
    {
      "cell_type": "code",
      "execution_count": null,
      "id": "49c38bf7",
      "metadata": {
        "id": "49c38bf7"
      },
      "outputs": [],
      "source": [
        "def model_fitting(train_X, train_y, test_X, test_y, model):\n",
        "    # early_stopping\n",
        "#     early_stop = EarlyStopping(monitor='loss', patience=3, verbose=1)\n",
        "\n",
        "    # fit network\n",
        "    # 모델 적용(학습 횟수(epoch) : 200, 한 번에 학습하는 데이터 개수(batch_size) : 15, 검증 데이터 설정, verbose : 2, shuffle 안함)\n",
        "    history = model.fit(train_X, train_y, epochs=200, batch_size=30, validation_data=(test_X, test_y), verbose=2, shuffle=False) # , callbacks=[early_stop])\n",
        "    \n",
        "    # plot history 플롯 설정(훈련, 검증 셋)\n",
        "    plt.plot(history.history['loss'], label='train')\n",
        "    plt.plot(history.history['val_loss'], label='test')\n",
        "    plt.xlabel('EPOCH')\n",
        "    plt.ylabel('LOSS')\n",
        "    plt.legend()\n",
        "    plt.show()\n",
        "\n",
        "    # make a prediction 예측하기\n",
        "    xhat = model.predict(train_X)\n",
        "    yhat = model.predict(test_X) # 검증 데이터X 예측\n",
        "\n",
        "    train_X = train_X.reshape((train_X.shape[0], train_X.shape[2]))\n",
        "    test_X = test_X.reshape((test_X.shape[0], test_X.shape[2]))\n",
        "    \n",
        "    return result_sum(xhat, yhat, train_X, train_y, test_X, test_y), model"
      ]
    },
    {
      "cell_type": "code",
      "execution_count": null,
      "id": "ff07505e",
      "metadata": {
        "id": "ff07505e"
      },
      "outputs": [],
      "source": [
        "def split_data(values):\n",
        "    trainSize = int(len(values)* 0.7)\n",
        "    testSize = int(len(values)* 0.9)\n",
        "    train = values[:trainSize, :]\n",
        "    test = values[trainSize:testSize, :]\n",
        "    act = values[testSize:, :]\n",
        "\n",
        "    # split into input and outputs\n",
        "    train_X, train_y = train[:, :-1], train[:, -1] # 학습에 사용되는 데이터1, 2 (train[:, -1]가 도출될 수 있도록 하는 데이터와 train[:, -1] 데이터)\n",
        "    test_X, test_y = test[:, :-1], test[:, -1] # 검증 데이터 (위와 같음)\n",
        "    act_X, act_y = act[:, :-1], act[:, -1]\n",
        "\n",
        "    # reshape input to be 3D [samples, timesteps, features] 3차원 데이터로 변환\n",
        "    train_X = train_X.reshape((train_X.shape[0], 1, train_X.shape[1]))\n",
        "    test_X = test_X.reshape((test_X.shape[0], 1, test_X.shape[1]))\n",
        "    act_X = act_X.reshape((act_X.shape[0], 1, act_X.shape[1]))\n",
        "    \n",
        "    print('train_X :', train_X.shape,\n",
        "          '\\ntrain_y :', train_y.shape,\n",
        "          '\\ntest_X :', test_X.shape,\n",
        "          '\\ntest_y :', test_y.shape,\n",
        "          '\\nact_X :', act_X.shape,\n",
        "          '\\nact_y :', act_y.shape)    \n",
        "   \n",
        "    return train_X, train_y, test_X, test_y, act_X, act_y"
      ]
    },
    {
      "cell_type": "code",
      "execution_count": null,
      "id": "5d105d90",
      "metadata": {
        "id": "5d105d90"
      },
      "outputs": [],
      "source": [
        "def shift_data(values):\n",
        "    reframed = series_to_supervised(values, 1, 1) # series_to_supervised 이용, 프레임 변환\n",
        "    \n",
        "    # drop columns we don't want to predict 예측하지 않는 컬럼 삭제\n",
        "    reframed.drop(reframed.columns[[3]], axis=1, inplace=True)\n",
        "    \n",
        "    # normalize features 피쳐 normalize\n",
        "    global scaler\n",
        "    scaler = MinMaxScaler(feature_range=(0, 1)) # 최대최소 스케일링(0, 1)\n",
        "    scaled = scaler.fit_transform(reframed) # 지하수 데이터에 스케일러 적용\n",
        "\n",
        "    # split into train and test sets\n",
        "    return split_data(scaled)"
      ]
    },
    {
      "cell_type": "code",
      "execution_count": null,
      "id": "b5213ef9",
      "metadata": {
        "id": "b5213ef9"
      },
      "outputs": [],
      "source": [
        "def show_rst(act_X, act_y, zhat):\n",
        "    act_X = act_X.reshape((act_X.shape[0], act_X.shape[2]))\n",
        "    act_y = act_y.reshape((act_y.shape[0], 1))\n",
        "    kok = np.concatenate((act_X[:, ], zhat), axis=1)\n",
        "    koko = np.concatenate((act_X, act_y), axis=1)\n",
        "    print(koko.shape, kok.shape)\n",
        "    koko = scaler.inverse_transform(koko)\n",
        "    kok = scaler.inverse_transform(kok)\n",
        "    \n",
        "    plt.plot(koko[:, -1], label='actual')\n",
        "    plt.plot(kok[:, -1], label='pred')\n",
        "    plt.xlabel('DATE')\n",
        "    plt.ylabel('PRED')\n",
        "    plt.legend()\n",
        "    plt.show()\n",
        "    \n",
        "    return pd.DataFrame(np.concatenate((koko[:,[ -1]], kok[:, [-1]]), axis=1), columns=['org', 'prd'])"
      ]
    },
    {
      "cell_type": "code",
      "execution_count": null,
      "id": "ff842f56",
      "metadata": {
        "scrolled": false,
        "id": "ff842f56",
        "outputId": "3b9c49a1-695f-45d5-9915-b83a6d134505"
      },
      "outputs": [
        {
          "name": "stdout",
          "output_type": "stream",
          "text": [
            "train_X : (71534, 1, 2) \n",
            "train_y : (71534,) \n",
            "test_X : (20438, 1, 2) \n",
            "test_y : (20438,) \n",
            "act_X : (10220, 1, 2) \n",
            "act_y : (10220,)\n",
            "Model: \"sequential_5\"\n",
            "_________________________________________________________________\n",
            "Layer (type)                 Output Shape              Param #   \n",
            "=================================================================\n",
            "lstm_5 (LSTM)                (None, 60)                15120     \n",
            "_________________________________________________________________\n",
            "dropout_5 (Dropout)          (None, 60)                0         \n",
            "_________________________________________________________________\n",
            "dense_5 (Dense)              (None, 1)                 61        \n",
            "=================================================================\n",
            "Total params: 15,181\n",
            "Trainable params: 15,181\n",
            "Non-trainable params: 0\n",
            "_________________________________________________________________\n",
            "loss:오차  - acc:  - mae:  - val_loss:  - val_acc:  - val_mae: \n",
            "1번 째 시도\n",
            "Epoch 1/200\n",
            "2385/2385 - 10s - loss: 0.0052 - acc: 1.3979e-05 - mae: 0.0511 - val_loss: 0.0048 - val_acc: 0.0000e+00 - val_mae: 0.0557\n",
            "Epoch 2/200\n",
            "2385/2385 - 6s - loss: 0.0021 - acc: 1.3979e-05 - mae: 0.0332 - val_loss: 0.0038 - val_acc: 0.0000e+00 - val_mae: 0.0501\n",
            "Epoch 3/200\n",
            "2385/2385 - 7s - loss: 0.0012 - acc: 1.3979e-05 - mae: 0.0243 - val_loss: 0.0028 - val_acc: 0.0000e+00 - val_mae: 0.0424\n",
            "Epoch 4/200\n",
            "2385/2385 - 7s - loss: 8.1249e-04 - acc: 1.3979e-05 - mae: 0.0203 - val_loss: 0.0031 - val_acc: 0.0000e+00 - val_mae: 0.0446\n",
            "Epoch 5/200\n",
            "2385/2385 - 7s - loss: 7.3962e-04 - acc: 1.3979e-05 - mae: 0.0194 - val_loss: 0.0032 - val_acc: 0.0000e+00 - val_mae: 0.0450\n",
            "Epoch 6/200\n",
            "2385/2385 - 6s - loss: 6.4666e-04 - acc: 1.3979e-05 - mae: 0.0181 - val_loss: 0.0030 - val_acc: 0.0000e+00 - val_mae: 0.0437\n",
            "Epoch 7/200\n",
            "2385/2385 - 7s - loss: 5.9714e-04 - acc: 1.3979e-05 - mae: 0.0173 - val_loss: 0.0029 - val_acc: 0.0000e+00 - val_mae: 0.0430\n",
            "Epoch 8/200\n",
            "2385/2385 - 6s - loss: 5.4302e-04 - acc: 1.3979e-05 - mae: 0.0165 - val_loss: 0.0029 - val_acc: 0.0000e+00 - val_mae: 0.0428\n",
            "Epoch 9/200\n",
            "2385/2385 - 6s - loss: 5.2095e-04 - acc: 1.3979e-05 - mae: 0.0161 - val_loss: 0.0028 - val_acc: 0.0000e+00 - val_mae: 0.0417\n",
            "Epoch 10/200\n",
            "2385/2385 - 7s - loss: 4.9399e-04 - acc: 1.3979e-05 - mae: 0.0157 - val_loss: 0.0027 - val_acc: 0.0000e+00 - val_mae: 0.0411\n",
            "Epoch 11/200\n",
            "2385/2385 - 8s - loss: 4.7197e-04 - acc: 1.3979e-05 - mae: 0.0153 - val_loss: 0.0025 - val_acc: 0.0000e+00 - val_mae: 0.0395\n",
            "Epoch 12/200\n",
            "2385/2385 - 8s - loss: 4.6249e-04 - acc: 1.3979e-05 - mae: 0.0151 - val_loss: 0.0026 - val_acc: 0.0000e+00 - val_mae: 0.0405\n",
            "Epoch 13/200\n",
            "2385/2385 - 7s - loss: 4.5617e-04 - acc: 1.3979e-05 - mae: 0.0150 - val_loss: 0.0026 - val_acc: 0.0000e+00 - val_mae: 0.0400\n",
            "Epoch 14/200\n",
            "2385/2385 - 7s - loss: 4.3304e-04 - acc: 1.3979e-05 - mae: 0.0146 - val_loss: 0.0025 - val_acc: 0.0000e+00 - val_mae: 0.0398\n",
            "Epoch 15/200\n",
            "2385/2385 - 7s - loss: 4.2860e-04 - acc: 1.3979e-05 - mae: 0.0146 - val_loss: 0.0026 - val_acc: 0.0000e+00 - val_mae: 0.0402\n",
            "Epoch 16/200\n",
            "2385/2385 - 7s - loss: 4.1757e-04 - acc: 1.3979e-05 - mae: 0.0144 - val_loss: 0.0026 - val_acc: 0.0000e+00 - val_mae: 0.0402\n",
            "Epoch 17/200\n",
            "2385/2385 - 7s - loss: 4.2012e-04 - acc: 1.3979e-05 - mae: 0.0144 - val_loss: 0.0024 - val_acc: 0.0000e+00 - val_mae: 0.0385\n",
            "Epoch 18/200\n",
            "2385/2385 - 8s - loss: 4.0835e-04 - acc: 1.3979e-05 - mae: 0.0142 - val_loss: 0.0025 - val_acc: 0.0000e+00 - val_mae: 0.0396\n",
            "Epoch 19/200\n",
            "2385/2385 - 8s - loss: 4.1168e-04 - acc: 1.3979e-05 - mae: 0.0142 - val_loss: 0.0023 - val_acc: 0.0000e+00 - val_mae: 0.0376\n",
            "Epoch 20/200\n",
            "2385/2385 - 7s - loss: 3.9145e-04 - acc: 1.3979e-05 - mae: 0.0139 - val_loss: 0.0023 - val_acc: 0.0000e+00 - val_mae: 0.0376\n",
            "Epoch 21/200\n",
            "2385/2385 - 7s - loss: 3.9924e-04 - acc: 1.3979e-05 - mae: 0.0140 - val_loss: 0.0023 - val_acc: 0.0000e+00 - val_mae: 0.0376\n",
            "Epoch 22/200\n",
            "2385/2385 - 7s - loss: 3.8817e-04 - acc: 1.3979e-05 - mae: 0.0138 - val_loss: 0.0024 - val_acc: 0.0000e+00 - val_mae: 0.0383\n",
            "Epoch 23/200\n",
            "2385/2385 - 7s - loss: 3.9145e-04 - acc: 1.3979e-05 - mae: 0.0139 - val_loss: 0.0023 - val_acc: 0.0000e+00 - val_mae: 0.0381\n",
            "Epoch 24/200\n",
            "2385/2385 - 7s - loss: 3.8680e-04 - acc: 1.3979e-05 - mae: 0.0138 - val_loss: 0.0023 - val_acc: 0.0000e+00 - val_mae: 0.0376\n",
            "Epoch 25/200\n",
            "2385/2385 - 7s - loss: 3.9250e-04 - acc: 1.3979e-05 - mae: 0.0139 - val_loss: 0.0023 - val_acc: 0.0000e+00 - val_mae: 0.0378\n",
            "Epoch 26/200\n",
            "2385/2385 - 7s - loss: 3.7553e-04 - acc: 1.3979e-05 - mae: 0.0136 - val_loss: 0.0022 - val_acc: 0.0000e+00 - val_mae: 0.0369\n",
            "Epoch 27/200\n",
            "2385/2385 - 8s - loss: 3.8702e-04 - acc: 1.3979e-05 - mae: 0.0138 - val_loss: 0.0021 - val_acc: 0.0000e+00 - val_mae: 0.0359\n",
            "Epoch 28/200\n",
            "2385/2385 - 8s - loss: 3.7942e-04 - acc: 1.3979e-05 - mae: 0.0137 - val_loss: 0.0023 - val_acc: 0.0000e+00 - val_mae: 0.0377\n",
            "Epoch 29/200\n",
            "2385/2385 - 7s - loss: 3.8052e-04 - acc: 1.3979e-05 - mae: 0.0136 - val_loss: 0.0022 - val_acc: 0.0000e+00 - val_mae: 0.0366\n",
            "Epoch 30/200\n",
            "2385/2385 - 7s - loss: 3.7881e-04 - acc: 1.3979e-05 - mae: 0.0136 - val_loss: 0.0020 - val_acc: 0.0000e+00 - val_mae: 0.0348\n",
            "Epoch 31/200\n",
            "2385/2385 - 7s - loss: 3.6476e-04 - acc: 1.3979e-05 - mae: 0.0135 - val_loss: 0.0022 - val_acc: 0.0000e+00 - val_mae: 0.0369\n",
            "Epoch 32/200\n",
            "2385/2385 - 7s - loss: 3.6834e-04 - acc: 1.3979e-05 - mae: 0.0135 - val_loss: 0.0021 - val_acc: 0.0000e+00 - val_mae: 0.0362\n",
            "Epoch 33/200\n",
            "2385/2385 - 8s - loss: 3.7107e-04 - acc: 1.3979e-05 - mae: 0.0135 - val_loss: 0.0020 - val_acc: 0.0000e+00 - val_mae: 0.0348\n",
            "Epoch 34/200\n",
            "2385/2385 - 8s - loss: 3.7175e-04 - acc: 1.3979e-05 - mae: 0.0135 - val_loss: 0.0019 - val_acc: 0.0000e+00 - val_mae: 0.0342\n",
            "Epoch 35/200\n",
            "2385/2385 - 9s - loss: 3.7125e-04 - acc: 1.3979e-05 - mae: 0.0135 - val_loss: 0.0020 - val_acc: 0.0000e+00 - val_mae: 0.0354\n",
            "Epoch 36/200\n",
            "2385/2385 - 8s - loss: 3.7345e-04 - acc: 1.3979e-05 - mae: 0.0136 - val_loss: 0.0018 - val_acc: 0.0000e+00 - val_mae: 0.0331\n",
            "Epoch 37/200\n",
            "2385/2385 - 8s - loss: 3.5648e-04 - acc: 1.3979e-05 - mae: 0.0133 - val_loss: 0.0020 - val_acc: 0.0000e+00 - val_mae: 0.0348\n",
            "Epoch 38/200\n",
            "2385/2385 - 9s - loss: 3.5802e-04 - acc: 1.3979e-05 - mae: 0.0133 - val_loss: 0.0018 - val_acc: 0.0000e+00 - val_mae: 0.0332\n",
            "Epoch 39/200\n",
            "2385/2385 - 9s - loss: 3.6709e-04 - acc: 1.3979e-05 - mae: 0.0134 - val_loss: 0.0018 - val_acc: 0.0000e+00 - val_mae: 0.0336\n",
            "Epoch 40/200\n",
            "2385/2385 - 9s - loss: 3.6826e-04 - acc: 1.3979e-05 - mae: 0.0134 - val_loss: 0.0017 - val_acc: 0.0000e+00 - val_mae: 0.0322\n",
            "Epoch 41/200\n",
            "2385/2385 - 9s - loss: 3.5798e-04 - acc: 1.3979e-05 - mae: 0.0133 - val_loss: 0.0018 - val_acc: 0.0000e+00 - val_mae: 0.0332\n",
            "Epoch 42/200\n",
            "2385/2385 - 9s - loss: 3.6059e-04 - acc: 1.3979e-05 - mae: 0.0133 - val_loss: 0.0017 - val_acc: 0.0000e+00 - val_mae: 0.0324\n",
            "Epoch 43/200\n",
            "2385/2385 - 9s - loss: 3.5878e-04 - acc: 1.3979e-05 - mae: 0.0132 - val_loss: 0.0017 - val_acc: 0.0000e+00 - val_mae: 0.0318\n",
            "Epoch 44/200\n",
            "2385/2385 - 9s - loss: 3.6230e-04 - acc: 1.3979e-05 - mae: 0.0134 - val_loss: 0.0015 - val_acc: 0.0000e+00 - val_mae: 0.0306\n",
            "Epoch 45/200\n",
            "2385/2385 - 9s - loss: 3.6159e-04 - acc: 1.3979e-05 - mae: 0.0133 - val_loss: 0.0016 - val_acc: 0.0000e+00 - val_mae: 0.0313\n",
            "Epoch 46/200\n",
            "2385/2385 - 9s - loss: 3.6075e-04 - acc: 1.3979e-05 - mae: 0.0133 - val_loss: 0.0015 - val_acc: 0.0000e+00 - val_mae: 0.0301\n",
            "Epoch 47/200\n",
            "2385/2385 - 9s - loss: 3.5921e-04 - acc: 1.3979e-05 - mae: 0.0132 - val_loss: 0.0015 - val_acc: 0.0000e+00 - val_mae: 0.0296\n",
            "Epoch 48/200\n",
            "2385/2385 - 9s - loss: 3.5997e-04 - acc: 1.3979e-05 - mae: 0.0133 - val_loss: 0.0015 - val_acc: 0.0000e+00 - val_mae: 0.0298\n",
            "Epoch 49/200\n",
            "2385/2385 - 9s - loss: 3.5876e-04 - acc: 1.3979e-05 - mae: 0.0132 - val_loss: 0.0014 - val_acc: 0.0000e+00 - val_mae: 0.0288\n",
            "Epoch 50/200\n",
            "2385/2385 - 9s - loss: 3.5005e-04 - acc: 1.3979e-05 - mae: 0.0130 - val_loss: 0.0014 - val_acc: 0.0000e+00 - val_mae: 0.0288\n",
            "Epoch 51/200\n",
            "2385/2385 - 9s - loss: 3.5563e-04 - acc: 1.3979e-05 - mae: 0.0132 - val_loss: 0.0014 - val_acc: 0.0000e+00 - val_mae: 0.0292\n",
            "Epoch 52/200\n",
            "2385/2385 - 9s - loss: 3.5767e-04 - acc: 1.3979e-05 - mae: 0.0131 - val_loss: 0.0013 - val_acc: 0.0000e+00 - val_mae: 0.0275\n",
            "Epoch 53/200\n",
            "2385/2385 - 9s - loss: 3.5369e-04 - acc: 1.3979e-05 - mae: 0.0131 - val_loss: 0.0013 - val_acc: 0.0000e+00 - val_mae: 0.0271\n"
          ]
        },
        {
          "name": "stdout",
          "output_type": "stream",
          "text": [
            "Epoch 54/200\n",
            "2385/2385 - 9s - loss: 3.6222e-04 - acc: 1.3979e-05 - mae: 0.0132 - val_loss: 0.0012 - val_acc: 0.0000e+00 - val_mae: 0.0265\n",
            "Epoch 55/200\n",
            "2385/2385 - 10s - loss: 3.4734e-04 - acc: 1.3979e-05 - mae: 0.0129 - val_loss: 0.0012 - val_acc: 0.0000e+00 - val_mae: 0.0271\n",
            "Epoch 56/200\n",
            "2385/2385 - 9s - loss: 3.4848e-04 - acc: 1.3979e-05 - mae: 0.0130 - val_loss: 0.0012 - val_acc: 0.0000e+00 - val_mae: 0.0271\n",
            "Epoch 57/200\n",
            "2385/2385 - 9s - loss: 3.4957e-04 - acc: 1.3979e-05 - mae: 0.0130 - val_loss: 0.0012 - val_acc: 0.0000e+00 - val_mae: 0.0265\n",
            "Epoch 58/200\n",
            "2385/2385 - 9s - loss: 3.4712e-04 - acc: 1.3979e-05 - mae: 0.0130 - val_loss: 0.0013 - val_acc: 0.0000e+00 - val_mae: 0.0271\n",
            "Epoch 59/200\n",
            "2385/2385 - 9s - loss: 3.4845e-04 - acc: 1.3979e-05 - mae: 0.0130 - val_loss: 0.0012 - val_acc: 0.0000e+00 - val_mae: 0.0260\n",
            "Epoch 60/200\n",
            "2385/2385 - 9s - loss: 3.4849e-04 - acc: 1.3979e-05 - mae: 0.0130 - val_loss: 0.0011 - val_acc: 0.0000e+00 - val_mae: 0.0252\n",
            "Epoch 61/200\n",
            "2385/2385 - 9s - loss: 3.4763e-04 - acc: 1.3979e-05 - mae: 0.0130 - val_loss: 0.0011 - val_acc: 0.0000e+00 - val_mae: 0.0254\n",
            "Epoch 62/200\n",
            "2385/2385 - 10s - loss: 3.4420e-04 - acc: 1.3979e-05 - mae: 0.0129 - val_loss: 0.0012 - val_acc: 0.0000e+00 - val_mae: 0.0265\n",
            "Epoch 63/200\n",
            "2385/2385 - 9s - loss: 3.5151e-04 - acc: 1.3979e-05 - mae: 0.0130 - val_loss: 0.0011 - val_acc: 0.0000e+00 - val_mae: 0.0258\n",
            "Epoch 64/200\n",
            "2385/2385 - 9s - loss: 3.4625e-04 - acc: 1.3979e-05 - mae: 0.0130 - val_loss: 0.0011 - val_acc: 0.0000e+00 - val_mae: 0.0250\n",
            "Epoch 65/200\n",
            "2385/2385 - 9s - loss: 3.4384e-04 - acc: 1.3979e-05 - mae: 0.0128 - val_loss: 0.0011 - val_acc: 0.0000e+00 - val_mae: 0.0249\n",
            "Epoch 66/200\n",
            "2385/2385 - 9s - loss: 3.4442e-04 - acc: 1.3979e-05 - mae: 0.0129 - val_loss: 0.0011 - val_acc: 0.0000e+00 - val_mae: 0.0250\n",
            "Epoch 67/200\n",
            "2385/2385 - 8s - loss: 3.4832e-04 - acc: 1.3979e-05 - mae: 0.0129 - val_loss: 0.0011 - val_acc: 0.0000e+00 - val_mae: 0.0246\n",
            "Epoch 68/200\n",
            "2385/2385 - 8s - loss: 3.4941e-04 - acc: 1.3979e-05 - mae: 0.0129 - val_loss: 0.0010 - val_acc: 0.0000e+00 - val_mae: 0.0241\n",
            "Epoch 69/200\n",
            "2385/2385 - 9s - loss: 3.4542e-04 - acc: 1.3979e-05 - mae: 0.0128 - val_loss: 9.8403e-04 - val_acc: 0.0000e+00 - val_mae: 0.0237\n",
            "Epoch 70/200\n",
            "2385/2385 - 8s - loss: 3.4332e-04 - acc: 1.3979e-05 - mae: 0.0128 - val_loss: 0.0010 - val_acc: 0.0000e+00 - val_mae: 0.0245\n",
            "Epoch 71/200\n",
            "2385/2385 - 8s - loss: 3.4369e-04 - acc: 1.3979e-05 - mae: 0.0128 - val_loss: 9.8278e-04 - val_acc: 0.0000e+00 - val_mae: 0.0235\n",
            "Epoch 72/200\n",
            "2385/2385 - 8s - loss: 3.4195e-04 - acc: 1.3979e-05 - mae: 0.0128 - val_loss: 9.6469e-04 - val_acc: 0.0000e+00 - val_mae: 0.0233\n",
            "Epoch 73/200\n",
            "2385/2385 - 8s - loss: 3.3828e-04 - acc: 1.3979e-05 - mae: 0.0126 - val_loss: 9.7454e-04 - val_acc: 0.0000e+00 - val_mae: 0.0235\n",
            "Epoch 74/200\n",
            "2385/2385 - 8s - loss: 3.4286e-04 - acc: 1.3979e-05 - mae: 0.0128 - val_loss: 9.7579e-04 - val_acc: 0.0000e+00 - val_mae: 0.0235\n",
            "Epoch 75/200\n",
            "2385/2385 - 8s - loss: 3.3808e-04 - acc: 1.3979e-05 - mae: 0.0127 - val_loss: 9.9794e-04 - val_acc: 0.0000e+00 - val_mae: 0.0239\n",
            "Epoch 76/200\n",
            "2385/2385 - 9s - loss: 3.3678e-04 - acc: 1.3979e-05 - mae: 0.0127 - val_loss: 9.4575e-04 - val_acc: 0.0000e+00 - val_mae: 0.0231\n",
            "Epoch 77/200\n",
            "2385/2385 - 9s - loss: 3.3914e-04 - acc: 1.3979e-05 - mae: 0.0127 - val_loss: 9.1398e-04 - val_acc: 0.0000e+00 - val_mae: 0.0225\n",
            "Epoch 78/200\n",
            "2385/2385 - 9s - loss: 3.3943e-04 - acc: 1.3979e-05 - mae: 0.0126 - val_loss: 8.6914e-04 - val_acc: 0.0000e+00 - val_mae: 0.0220\n",
            "Epoch 79/200\n",
            "2385/2385 - 9s - loss: 3.3534e-04 - acc: 1.3979e-05 - mae: 0.0126 - val_loss: 9.0013e-04 - val_acc: 0.0000e+00 - val_mae: 0.0224\n",
            "Epoch 80/200\n",
            "2385/2385 - 8s - loss: 3.3803e-04 - acc: 1.3979e-05 - mae: 0.0127 - val_loss: 8.8955e-04 - val_acc: 0.0000e+00 - val_mae: 0.0224\n",
            "Epoch 81/200\n",
            "2385/2385 - 7s - loss: 3.3603e-04 - acc: 1.3979e-05 - mae: 0.0126 - val_loss: 8.5640e-04 - val_acc: 0.0000e+00 - val_mae: 0.0217\n",
            "Epoch 82/200\n",
            "2385/2385 - 7s - loss: 3.3640e-04 - acc: 1.3979e-05 - mae: 0.0126 - val_loss: 8.7857e-04 - val_acc: 0.0000e+00 - val_mae: 0.0221\n",
            "Epoch 83/200\n",
            "2385/2385 - 9s - loss: 3.4056e-04 - acc: 1.3979e-05 - mae: 0.0127 - val_loss: 9.1850e-04 - val_acc: 0.0000e+00 - val_mae: 0.0228\n",
            "Epoch 84/200\n",
            "2385/2385 - 8s - loss: 3.3507e-04 - acc: 1.3979e-05 - mae: 0.0125 - val_loss: 8.9363e-04 - val_acc: 0.0000e+00 - val_mae: 0.0223\n",
            "Epoch 85/200\n",
            "2385/2385 - 8s - loss: 3.4273e-04 - acc: 1.3979e-05 - mae: 0.0128 - val_loss: 9.4242e-04 - val_acc: 0.0000e+00 - val_mae: 0.0232\n",
            "Epoch 86/200\n",
            "2385/2385 - 8s - loss: 3.3746e-04 - acc: 1.3979e-05 - mae: 0.0126 - val_loss: 8.1294e-04 - val_acc: 0.0000e+00 - val_mae: 0.0211\n",
            "Epoch 87/200\n",
            "2385/2385 - 8s - loss: 3.3333e-04 - acc: 1.3979e-05 - mae: 0.0126 - val_loss: 8.0267e-04 - val_acc: 0.0000e+00 - val_mae: 0.0209\n",
            "Epoch 88/200\n",
            "2385/2385 - 7s - loss: 3.3810e-04 - acc: 1.3979e-05 - mae: 0.0126 - val_loss: 8.5758e-04 - val_acc: 0.0000e+00 - val_mae: 0.0218\n",
            "Epoch 89/200\n",
            "2385/2385 - 7s - loss: 3.3435e-04 - acc: 1.3979e-05 - mae: 0.0125 - val_loss: 8.3177e-04 - val_acc: 0.0000e+00 - val_mae: 0.0216\n",
            "Epoch 90/200\n",
            "2385/2385 - 8s - loss: 3.3559e-04 - acc: 1.3979e-05 - mae: 0.0125 - val_loss: 8.0290e-04 - val_acc: 0.0000e+00 - val_mae: 0.0210\n",
            "Epoch 91/200\n",
            "2385/2385 - 9s - loss: 3.3203e-04 - acc: 1.3979e-05 - mae: 0.0125 - val_loss: 7.6110e-04 - val_acc: 0.0000e+00 - val_mae: 0.0202\n",
            "Epoch 92/200\n",
            "2385/2385 - 8s - loss: 3.2933e-04 - acc: 1.3979e-05 - mae: 0.0124 - val_loss: 8.1312e-04 - val_acc: 0.0000e+00 - val_mae: 0.0209\n",
            "Epoch 93/200\n",
            "2385/2385 - 8s - loss: 3.3059e-04 - acc: 1.3979e-05 - mae: 0.0125 - val_loss: 8.3635e-04 - val_acc: 0.0000e+00 - val_mae: 0.0214\n",
            "Epoch 94/200\n",
            "2385/2385 - 8s - loss: 3.3371e-04 - acc: 1.3979e-05 - mae: 0.0125 - val_loss: 8.3357e-04 - val_acc: 0.0000e+00 - val_mae: 0.0215\n",
            "Epoch 95/200\n",
            "2385/2385 - 8s - loss: 3.4064e-04 - acc: 1.3979e-05 - mae: 0.0126 - val_loss: 8.0409e-04 - val_acc: 0.0000e+00 - val_mae: 0.0211\n",
            "Epoch 96/200\n",
            "2385/2385 - 8s - loss: 3.3142e-04 - acc: 1.3979e-05 - mae: 0.0125 - val_loss: 7.9545e-04 - val_acc: 0.0000e+00 - val_mae: 0.0209\n",
            "Epoch 97/200\n",
            "2385/2385 - 8s - loss: 3.3162e-04 - acc: 1.3979e-05 - mae: 0.0124 - val_loss: 8.0006e-04 - val_acc: 0.0000e+00 - val_mae: 0.0209\n",
            "Epoch 98/200\n",
            "2385/2385 - 9s - loss: 3.4227e-04 - acc: 1.3979e-05 - mae: 0.0126 - val_loss: 7.7996e-04 - val_acc: 0.0000e+00 - val_mae: 0.0206\n",
            "Epoch 99/200\n",
            "2385/2385 - 8s - loss: 3.2917e-04 - acc: 1.3979e-05 - mae: 0.0124 - val_loss: 8.0463e-04 - val_acc: 0.0000e+00 - val_mae: 0.0209\n",
            "Epoch 100/200\n",
            "2385/2385 - 8s - loss: 3.2927e-04 - acc: 1.3979e-05 - mae: 0.0124 - val_loss: 8.1674e-04 - val_acc: 0.0000e+00 - val_mae: 0.0211\n",
            "Epoch 101/200\n",
            "2385/2385 - 7s - loss: 3.3410e-04 - acc: 1.3979e-05 - mae: 0.0125 - val_loss: 7.9131e-04 - val_acc: 0.0000e+00 - val_mae: 0.0207\n",
            "Epoch 102/200\n",
            "2385/2385 - 7s - loss: 3.3298e-04 - acc: 1.3979e-05 - mae: 0.0125 - val_loss: 7.6873e-04 - val_acc: 0.0000e+00 - val_mae: 0.0203\n",
            "Epoch 103/200\n",
            "2385/2385 - 7s - loss: 3.3762e-04 - acc: 1.3979e-05 - mae: 0.0125 - val_loss: 7.5981e-04 - val_acc: 0.0000e+00 - val_mae: 0.0202\n",
            "Epoch 104/200\n",
            "2385/2385 - 7s - loss: 3.3698e-04 - acc: 1.3979e-05 - mae: 0.0125 - val_loss: 7.1895e-04 - val_acc: 0.0000e+00 - val_mae: 0.0196\n",
            "Epoch 105/200\n",
            "2385/2385 - 7s - loss: 3.3051e-04 - acc: 1.3979e-05 - mae: 0.0124 - val_loss: 7.3230e-04 - val_acc: 0.0000e+00 - val_mae: 0.0198\n",
            "Epoch 106/200\n",
            "2385/2385 - 8s - loss: 3.2855e-04 - acc: 1.3979e-05 - mae: 0.0124 - val_loss: 7.1537e-04 - val_acc: 0.0000e+00 - val_mae: 0.0196\n",
            "Epoch 107/200\n",
            "2385/2385 - 8s - loss: 3.3382e-04 - acc: 1.3979e-05 - mae: 0.0124 - val_loss: 6.7050e-04 - val_acc: 0.0000e+00 - val_mae: 0.0188\n",
            "Epoch 108/200\n",
            "2385/2385 - 8s - loss: 3.3429e-04 - acc: 1.3979e-05 - mae: 0.0124 - val_loss: 7.1888e-04 - val_acc: 0.0000e+00 - val_mae: 0.0196\n",
            "Epoch 109/200\n",
            "2385/2385 - 8s - loss: 3.3420e-04 - acc: 1.3979e-05 - mae: 0.0124 - val_loss: 7.2631e-04 - val_acc: 0.0000e+00 - val_mae: 0.0196\n",
            "Epoch 110/200\n",
            "2385/2385 - 8s - loss: 3.3319e-04 - acc: 1.3979e-05 - mae: 0.0124 - val_loss: 7.0049e-04 - val_acc: 0.0000e+00 - val_mae: 0.0193\n",
            "Epoch 111/200\n",
            "2385/2385 - 7s - loss: 3.3026e-04 - acc: 1.3979e-05 - mae: 0.0123 - val_loss: 7.4792e-04 - val_acc: 0.0000e+00 - val_mae: 0.0201\n",
            "Epoch 112/200\n"
          ]
        },
        {
          "name": "stdout",
          "output_type": "stream",
          "text": [
            "2385/2385 - 7s - loss: 3.2627e-04 - acc: 1.3979e-05 - mae: 0.0123 - val_loss: 6.9141e-04 - val_acc: 0.0000e+00 - val_mae: 0.0190\n",
            "Epoch 113/200\n",
            "2385/2385 - 8s - loss: 3.3091e-04 - acc: 1.3979e-05 - mae: 0.0123 - val_loss: 6.4740e-04 - val_acc: 0.0000e+00 - val_mae: 0.0183\n",
            "Epoch 114/200\n",
            "2385/2385 - 8s - loss: 3.2523e-04 - acc: 1.3979e-05 - mae: 0.0123 - val_loss: 6.5361e-04 - val_acc: 0.0000e+00 - val_mae: 0.0185\n",
            "Epoch 115/200\n",
            "2385/2385 - 7s - loss: 3.3596e-04 - acc: 1.3979e-05 - mae: 0.0124 - val_loss: 6.7749e-04 - val_acc: 0.0000e+00 - val_mae: 0.0189\n",
            "Epoch 116/200\n",
            "2385/2385 - 7s - loss: 3.2881e-04 - acc: 1.3979e-05 - mae: 0.0123 - val_loss: 6.2069e-04 - val_acc: 0.0000e+00 - val_mae: 0.0179\n",
            "Epoch 117/200\n",
            "2385/2385 - 7s - loss: 3.2891e-04 - acc: 1.3979e-05 - mae: 0.0123 - val_loss: 6.2007e-04 - val_acc: 0.0000e+00 - val_mae: 0.0179\n",
            "Epoch 118/200\n",
            "2385/2385 - 7s - loss: 3.2594e-04 - acc: 1.3979e-05 - mae: 0.0123 - val_loss: 6.5932e-04 - val_acc: 0.0000e+00 - val_mae: 0.0186\n",
            "Epoch 119/200\n",
            "2385/2385 - 7s - loss: 3.3118e-04 - acc: 1.3979e-05 - mae: 0.0123 - val_loss: 6.6205e-04 - val_acc: 0.0000e+00 - val_mae: 0.0186\n",
            "Epoch 120/200\n",
            "2385/2385 - 8s - loss: 3.2899e-04 - acc: 1.3979e-05 - mae: 0.0123 - val_loss: 7.1602e-04 - val_acc: 0.0000e+00 - val_mae: 0.0194\n",
            "Epoch 121/200\n",
            "2385/2385 - 7s - loss: 3.2727e-04 - acc: 1.3979e-05 - mae: 0.0122 - val_loss: 6.7711e-04 - val_acc: 0.0000e+00 - val_mae: 0.0188\n",
            "Epoch 122/200\n",
            "2385/2385 - 8s - loss: 3.2694e-04 - acc: 1.3979e-05 - mae: 0.0123 - val_loss: 6.2870e-04 - val_acc: 0.0000e+00 - val_mae: 0.0179\n",
            "Epoch 123/200\n",
            "2385/2385 - 8s - loss: 3.2876e-04 - acc: 1.3979e-05 - mae: 0.0122 - val_loss: 6.5850e-04 - val_acc: 0.0000e+00 - val_mae: 0.0184\n",
            "Epoch 124/200\n",
            "2385/2385 - 8s - loss: 3.3749e-04 - acc: 1.3979e-05 - mae: 0.0124 - val_loss: 6.4951e-04 - val_acc: 0.0000e+00 - val_mae: 0.0182\n",
            "Epoch 125/200\n",
            "2385/2385 - 7s - loss: 3.3472e-04 - acc: 1.3979e-05 - mae: 0.0123 - val_loss: 6.2624e-04 - val_acc: 0.0000e+00 - val_mae: 0.0179\n",
            "Epoch 126/200\n",
            "2385/2385 - 7s - loss: 3.3008e-04 - acc: 1.3979e-05 - mae: 0.0123 - val_loss: 6.0898e-04 - val_acc: 0.0000e+00 - val_mae: 0.0175\n",
            "Epoch 127/200\n",
            "2385/2385 - 7s - loss: 3.3238e-04 - acc: 1.3979e-05 - mae: 0.0123 - val_loss: 5.8606e-04 - val_acc: 0.0000e+00 - val_mae: 0.0172\n",
            "Epoch 128/200\n",
            "2385/2385 - 7s - loss: 3.2953e-04 - acc: 1.3979e-05 - mae: 0.0122 - val_loss: 5.9268e-04 - val_acc: 0.0000e+00 - val_mae: 0.0173\n",
            "Epoch 129/200\n",
            "2385/2385 - 7s - loss: 3.3145e-04 - acc: 1.3979e-05 - mae: 0.0123 - val_loss: 6.1804e-04 - val_acc: 0.0000e+00 - val_mae: 0.0178\n",
            "Epoch 130/200\n",
            "2385/2385 - 8s - loss: 3.3263e-04 - acc: 1.3979e-05 - mae: 0.0122 - val_loss: 5.9222e-04 - val_acc: 0.0000e+00 - val_mae: 0.0173\n",
            "Epoch 131/200\n",
            "2385/2385 - 7s - loss: 3.2924e-04 - acc: 1.3979e-05 - mae: 0.0122 - val_loss: 5.8795e-04 - val_acc: 0.0000e+00 - val_mae: 0.0172\n",
            "Epoch 132/200\n",
            "2385/2385 - 8s - loss: 3.3627e-04 - acc: 1.3979e-05 - mae: 0.0123 - val_loss: 5.7886e-04 - val_acc: 0.0000e+00 - val_mae: 0.0171\n",
            "Epoch 133/200\n",
            "2385/2385 - 8s - loss: 3.3549e-04 - acc: 1.3979e-05 - mae: 0.0123 - val_loss: 5.7138e-04 - val_acc: 0.0000e+00 - val_mae: 0.0169\n",
            "Epoch 134/200\n",
            "2385/2385 - 8s - loss: 3.2931e-04 - acc: 1.3979e-05 - mae: 0.0122 - val_loss: 5.2236e-04 - val_acc: 0.0000e+00 - val_mae: 0.0159\n",
            "Epoch 135/200\n",
            "2385/2385 - 8s - loss: 3.2803e-04 - acc: 1.3979e-05 - mae: 0.0122 - val_loss: 6.0886e-04 - val_acc: 0.0000e+00 - val_mae: 0.0174\n",
            "Epoch 136/200\n",
            "2385/2385 - 8s - loss: 3.3679e-04 - acc: 1.3979e-05 - mae: 0.0123 - val_loss: 5.9799e-04 - val_acc: 0.0000e+00 - val_mae: 0.0175\n",
            "Epoch 137/200\n",
            "2385/2385 - 8s - loss: 3.2519e-04 - acc: 1.3979e-05 - mae: 0.0121 - val_loss: 5.9310e-04 - val_acc: 0.0000e+00 - val_mae: 0.0171\n",
            "Epoch 138/200\n",
            "2385/2385 - 7s - loss: 3.2512e-04 - acc: 1.3979e-05 - mae: 0.0121 - val_loss: 6.1004e-04 - val_acc: 0.0000e+00 - val_mae: 0.0173\n",
            "Epoch 139/200\n",
            "2385/2385 - 7s - loss: 3.3042e-04 - acc: 1.3979e-05 - mae: 0.0122 - val_loss: 5.7906e-04 - val_acc: 0.0000e+00 - val_mae: 0.0169\n",
            "Epoch 140/200\n",
            "2385/2385 - 7s - loss: 3.3711e-04 - acc: 1.3979e-05 - mae: 0.0123 - val_loss: 5.6057e-04 - val_acc: 0.0000e+00 - val_mae: 0.0167\n",
            "Epoch 141/200\n",
            "2385/2385 - 7s - loss: 3.3034e-04 - acc: 1.3979e-05 - mae: 0.0122 - val_loss: 5.3222e-04 - val_acc: 0.0000e+00 - val_mae: 0.0159\n",
            "Epoch 142/200\n",
            "2385/2385 - 8s - loss: 3.3462e-04 - acc: 1.3979e-05 - mae: 0.0122 - val_loss: 5.3137e-04 - val_acc: 0.0000e+00 - val_mae: 0.0161\n",
            "Epoch 143/200\n",
            "2385/2385 - 8s - loss: 3.3245e-04 - acc: 1.3979e-05 - mae: 0.0122 - val_loss: 5.0572e-04 - val_acc: 0.0000e+00 - val_mae: 0.0155\n",
            "Epoch 144/200\n",
            "2385/2385 - 8s - loss: 3.3377e-04 - acc: 1.3979e-05 - mae: 0.0122 - val_loss: 5.3372e-04 - val_acc: 0.0000e+00 - val_mae: 0.0161\n",
            "Epoch 145/200\n",
            "2385/2385 - 9s - loss: 3.3394e-04 - acc: 1.3979e-05 - mae: 0.0121 - val_loss: 5.0832e-04 - val_acc: 0.0000e+00 - val_mae: 0.0156\n",
            "Epoch 146/200\n",
            "2385/2385 - 8s - loss: 3.3070e-04 - acc: 1.3979e-05 - mae: 0.0121 - val_loss: 5.5135e-04 - val_acc: 0.0000e+00 - val_mae: 0.0164\n",
            "Epoch 147/200\n",
            "2385/2385 - 8s - loss: 3.2601e-04 - acc: 1.3979e-05 - mae: 0.0121 - val_loss: 5.3217e-04 - val_acc: 0.0000e+00 - val_mae: 0.0160\n",
            "Epoch 148/200\n",
            "2385/2385 - 8s - loss: 3.3452e-04 - acc: 1.3979e-05 - mae: 0.0121 - val_loss: 5.4325e-04 - val_acc: 0.0000e+00 - val_mae: 0.0163\n",
            "Epoch 149/200\n",
            "2385/2385 - 7s - loss: 3.3412e-04 - acc: 1.3979e-05 - mae: 0.0122 - val_loss: 5.1618e-04 - val_acc: 0.0000e+00 - val_mae: 0.0157\n",
            "Epoch 150/200\n",
            "2385/2385 - 7s - loss: 3.3598e-04 - acc: 1.3979e-05 - mae: 0.0121 - val_loss: 5.1599e-04 - val_acc: 0.0000e+00 - val_mae: 0.0157\n",
            "Epoch 151/200\n",
            "2385/2385 - 7s - loss: 3.3198e-04 - acc: 1.3979e-05 - mae: 0.0121 - val_loss: 5.0777e-04 - val_acc: 0.0000e+00 - val_mae: 0.0156\n",
            "Epoch 152/200\n",
            "2385/2385 - 7s - loss: 3.3392e-04 - acc: 1.3979e-05 - mae: 0.0121 - val_loss: 5.3541e-04 - val_acc: 0.0000e+00 - val_mae: 0.0160\n",
            "Epoch 153/200\n",
            "2385/2385 - 7s - loss: 3.4106e-04 - acc: 1.3979e-05 - mae: 0.0122 - val_loss: 5.0359e-04 - val_acc: 0.0000e+00 - val_mae: 0.0154\n",
            "Epoch 154/200\n",
            "2385/2385 - 8s - loss: 3.3397e-04 - acc: 1.3979e-05 - mae: 0.0121 - val_loss: 4.8818e-04 - val_acc: 0.0000e+00 - val_mae: 0.0151\n",
            "Epoch 155/200\n",
            "2385/2385 - 8s - loss: 3.2824e-04 - acc: 1.3979e-05 - mae: 0.0120 - val_loss: 5.1578e-04 - val_acc: 0.0000e+00 - val_mae: 0.0155\n",
            "Epoch 156/200\n",
            "2385/2385 - 8s - loss: 3.3719e-04 - acc: 1.3979e-05 - mae: 0.0122 - val_loss: 4.7456e-04 - val_acc: 0.0000e+00 - val_mae: 0.0148\n",
            "Epoch 157/200\n",
            "2385/2385 - 7s - loss: 3.3449e-04 - acc: 1.3979e-05 - mae: 0.0120 - val_loss: 4.9058e-04 - val_acc: 0.0000e+00 - val_mae: 0.0151\n",
            "Epoch 158/200\n",
            "2385/2385 - 6s - loss: 3.3179e-04 - acc: 1.3979e-05 - mae: 0.0120 - val_loss: 4.7167e-04 - val_acc: 0.0000e+00 - val_mae: 0.0148\n",
            "Epoch 159/200\n",
            "2385/2385 - 6s - loss: 3.3005e-04 - acc: 1.3979e-05 - mae: 0.0120 - val_loss: 4.9432e-04 - val_acc: 0.0000e+00 - val_mae: 0.0152\n",
            "Epoch 160/200\n",
            "2385/2385 - 7s - loss: 3.3931e-04 - acc: 1.3979e-05 - mae: 0.0122 - val_loss: 4.4352e-04 - val_acc: 0.0000e+00 - val_mae: 0.0141\n",
            "Epoch 161/200\n",
            "2385/2385 - 6s - loss: 3.3258e-04 - acc: 1.3979e-05 - mae: 0.0120 - val_loss: 5.2131e-04 - val_acc: 0.0000e+00 - val_mae: 0.0156\n",
            "Epoch 162/200\n",
            "2385/2385 - 7s - loss: 3.2658e-04 - acc: 1.3979e-05 - mae: 0.0120 - val_loss: 5.2347e-04 - val_acc: 0.0000e+00 - val_mae: 0.0155\n",
            "Epoch 163/200\n",
            "2385/2385 - 6s - loss: 3.4233e-04 - acc: 1.3979e-05 - mae: 0.0122 - val_loss: 4.5334e-04 - val_acc: 0.0000e+00 - val_mae: 0.0143\n",
            "Epoch 164/200\n",
            "2385/2385 - 7s - loss: 3.2809e-04 - acc: 1.3979e-05 - mae: 0.0120 - val_loss: 4.7085e-04 - val_acc: 0.0000e+00 - val_mae: 0.0147\n",
            "Epoch 165/200\n",
            "2385/2385 - 6s - loss: 3.4045e-04 - acc: 1.3979e-05 - mae: 0.0121 - val_loss: 4.8184e-04 - val_acc: 0.0000e+00 - val_mae: 0.0150\n",
            "Epoch 166/200\n",
            "2385/2385 - 7s - loss: 3.3683e-04 - acc: 1.3979e-05 - mae: 0.0120 - val_loss: 4.7226e-04 - val_acc: 0.0000e+00 - val_mae: 0.0147\n",
            "Epoch 167/200\n",
            "2385/2385 - 6s - loss: 3.3792e-04 - acc: 1.3979e-05 - mae: 0.0121 - val_loss: 4.7611e-04 - val_acc: 0.0000e+00 - val_mae: 0.0148\n",
            "Epoch 168/200\n",
            "2385/2385 - 6s - loss: 3.3307e-04 - acc: 1.3979e-05 - mae: 0.0121 - val_loss: 4.8121e-04 - val_acc: 0.0000e+00 - val_mae: 0.0148\n",
            "Epoch 169/200\n",
            "2385/2385 - 6s - loss: 3.3423e-04 - acc: 1.3979e-05 - mae: 0.0120 - val_loss: 4.7079e-04 - val_acc: 0.0000e+00 - val_mae: 0.0144\n"
          ]
        },
        {
          "name": "stdout",
          "output_type": "stream",
          "text": [
            "Epoch 170/200\n",
            "2385/2385 - 6s - loss: 3.3184e-04 - acc: 1.3979e-05 - mae: 0.0120 - val_loss: 4.9427e-04 - val_acc: 0.0000e+00 - val_mae: 0.0150\n",
            "Epoch 171/200\n",
            "2385/2385 - 7s - loss: 3.3779e-04 - acc: 1.3979e-05 - mae: 0.0121 - val_loss: 4.8336e-04 - val_acc: 0.0000e+00 - val_mae: 0.0149\n",
            "Epoch 172/200\n",
            "2385/2385 - 6s - loss: 3.3174e-04 - acc: 1.3979e-05 - mae: 0.0120 - val_loss: 4.5152e-04 - val_acc: 0.0000e+00 - val_mae: 0.0141\n",
            "Epoch 173/200\n",
            "2385/2385 - 6s - loss: 3.4107e-04 - acc: 1.3979e-05 - mae: 0.0121 - val_loss: 4.6954e-04 - val_acc: 0.0000e+00 - val_mae: 0.0146\n",
            "Epoch 174/200\n",
            "2385/2385 - 7s - loss: 3.3929e-04 - acc: 1.3979e-05 - mae: 0.0121 - val_loss: 4.3481e-04 - val_acc: 0.0000e+00 - val_mae: 0.0138\n",
            "Epoch 175/200\n",
            "2385/2385 - 7s - loss: 3.3307e-04 - acc: 1.3979e-05 - mae: 0.0120 - val_loss: 4.5970e-04 - val_acc: 0.0000e+00 - val_mae: 0.0143\n",
            "Epoch 176/200\n",
            "2385/2385 - 6s - loss: 3.3370e-04 - acc: 1.3979e-05 - mae: 0.0120 - val_loss: 4.3922e-04 - val_acc: 0.0000e+00 - val_mae: 0.0138\n",
            "Epoch 177/200\n",
            "2385/2385 - 7s - loss: 3.3961e-04 - acc: 1.3979e-05 - mae: 0.0121 - val_loss: 4.3735e-04 - val_acc: 0.0000e+00 - val_mae: 0.0138\n",
            "Epoch 178/200\n",
            "2385/2385 - 7s - loss: 3.3363e-04 - acc: 1.3979e-05 - mae: 0.0120 - val_loss: 4.3361e-04 - val_acc: 0.0000e+00 - val_mae: 0.0137\n",
            "Epoch 179/200\n",
            "2385/2385 - 6s - loss: 3.3882e-04 - acc: 1.3979e-05 - mae: 0.0120 - val_loss: 4.3967e-04 - val_acc: 0.0000e+00 - val_mae: 0.0139\n",
            "Epoch 180/200\n",
            "2385/2385 - 7s - loss: 3.3702e-04 - acc: 1.3979e-05 - mae: 0.0120 - val_loss: 4.6305e-04 - val_acc: 0.0000e+00 - val_mae: 0.0143\n",
            "Epoch 181/200\n",
            "2385/2385 - 7s - loss: 3.3677e-04 - acc: 1.3979e-05 - mae: 0.0120 - val_loss: 4.4247e-04 - val_acc: 0.0000e+00 - val_mae: 0.0138\n",
            "Epoch 182/200\n",
            "2385/2385 - 7s - loss: 3.4027e-04 - acc: 1.3979e-05 - mae: 0.0120 - val_loss: 4.4301e-04 - val_acc: 0.0000e+00 - val_mae: 0.0140\n",
            "Epoch 183/200\n",
            "2385/2385 - 6s - loss: 3.3669e-04 - acc: 1.3979e-05 - mae: 0.0120 - val_loss: 4.3738e-04 - val_acc: 0.0000e+00 - val_mae: 0.0136\n",
            "Epoch 184/200\n",
            "2385/2385 - 6s - loss: 3.3888e-04 - acc: 1.3979e-05 - mae: 0.0120 - val_loss: 4.1780e-04 - val_acc: 0.0000e+00 - val_mae: 0.0133\n",
            "Epoch 185/200\n",
            "2385/2385 - 6s - loss: 3.4677e-04 - acc: 1.3979e-05 - mae: 0.0121 - val_loss: 4.0309e-04 - val_acc: 0.0000e+00 - val_mae: 0.0129\n",
            "Epoch 186/200\n",
            "2385/2385 - 6s - loss: 3.4735e-04 - acc: 1.3979e-05 - mae: 0.0121 - val_loss: 4.1342e-04 - val_acc: 0.0000e+00 - val_mae: 0.0132\n",
            "Epoch 187/200\n",
            "2385/2385 - 6s - loss: 3.5377e-04 - acc: 1.3979e-05 - mae: 0.0122 - val_loss: 4.2196e-04 - val_acc: 0.0000e+00 - val_mae: 0.0134\n",
            "Epoch 188/200\n",
            "2385/2385 - 6s - loss: 3.4258e-04 - acc: 1.3979e-05 - mae: 0.0120 - val_loss: 3.8774e-04 - val_acc: 0.0000e+00 - val_mae: 0.0126\n",
            "Epoch 189/200\n",
            "2385/2385 - 6s - loss: 3.4151e-04 - acc: 1.3979e-05 - mae: 0.0120 - val_loss: 4.4335e-04 - val_acc: 0.0000e+00 - val_mae: 0.0138\n",
            "Epoch 190/200\n",
            "2385/2385 - 7s - loss: 3.3965e-04 - acc: 1.3979e-05 - mae: 0.0120 - val_loss: 4.1883e-04 - val_acc: 0.0000e+00 - val_mae: 0.0133\n",
            "Epoch 191/200\n",
            "2385/2385 - 7s - loss: 3.4073e-04 - acc: 1.3979e-05 - mae: 0.0120 - val_loss: 3.9455e-04 - val_acc: 0.0000e+00 - val_mae: 0.0127\n",
            "Epoch 192/200\n",
            "2385/2385 - 6s - loss: 3.4321e-04 - acc: 1.3979e-05 - mae: 0.0120 - val_loss: 3.9967e-04 - val_acc: 0.0000e+00 - val_mae: 0.0129\n",
            "Epoch 193/200\n",
            "2385/2385 - 6s - loss: 3.3823e-04 - acc: 1.3979e-05 - mae: 0.0120 - val_loss: 4.1965e-04 - val_acc: 0.0000e+00 - val_mae: 0.0132\n",
            "Epoch 194/200\n",
            "2385/2385 - 7s - loss: 3.4149e-04 - acc: 1.3979e-05 - mae: 0.0120 - val_loss: 4.2807e-04 - val_acc: 0.0000e+00 - val_mae: 0.0136\n",
            "Epoch 195/200\n",
            "2385/2385 - 6s - loss: 3.4583e-04 - acc: 1.3979e-05 - mae: 0.0120 - val_loss: 3.9078e-04 - val_acc: 0.0000e+00 - val_mae: 0.0126\n",
            "Epoch 196/200\n",
            "2385/2385 - 6s - loss: 3.3773e-04 - acc: 1.3979e-05 - mae: 0.0119 - val_loss: 4.0783e-04 - val_acc: 0.0000e+00 - val_mae: 0.0130\n",
            "Epoch 197/200\n",
            "2385/2385 - 6s - loss: 3.4204e-04 - acc: 1.3979e-05 - mae: 0.0120 - val_loss: 4.0757e-04 - val_acc: 0.0000e+00 - val_mae: 0.0130\n",
            "Epoch 198/200\n",
            "2385/2385 - 6s - loss: 3.4250e-04 - acc: 1.3979e-05 - mae: 0.0120 - val_loss: 4.1271e-04 - val_acc: 0.0000e+00 - val_mae: 0.0130\n",
            "Epoch 199/200\n",
            "2385/2385 - 7s - loss: 3.3846e-04 - acc: 1.3979e-05 - mae: 0.0120 - val_loss: 3.9357e-04 - val_acc: 0.0000e+00 - val_mae: 0.0126\n",
            "Epoch 200/200\n",
            "2385/2385 - 6s - loss: 3.4101e-04 - acc: 1.3979e-05 - mae: 0.0120 - val_loss: 4.0839e-04 - val_acc: 0.0000e+00 - val_mae: 0.0129\n"
          ]
        },
        {
          "data": {
            "image/png": "[encoded data removed]",
            "text/plain": [
              "<Figure size 720x432 with 1 Axes>"
            ]
          },
          "metadata": {
            "needs_background": "light"
          },
          "output_type": "display_data"
        },
        {
          "name": "stdout",
          "output_type": "stream",
          "text": [
            "Train RMSE: 0.071\n",
            "Train R2: 0.952\n",
            "Test RMSE: 0.054\n",
            "Test R2: 0.959\n"
          ]
        },
        {
          "data": {
            "image/png": "[encoded data removed]",
            "text/plain": [
              "<Figure size 720x432 with 1 Axes>"
            ]
          },
          "metadata": {
            "needs_background": "light"
          },
          "output_type": "display_data"
        },
        {
          "name": "stdout",
          "output_type": "stream",
          "text": [
            "(10220, 3) (10220, 3)\n"
          ]
        },
        {
          "data": {
            "image/png": "[encoded data removed]",
            "text/plain": [
              "<Figure size 720x432 with 1 Axes>"
            ]
          },
          "metadata": {
            "needs_background": "light"
          },
          "output_type": "display_data"
        },
        {
          "data": {
            "text/html": [
              "<div>\n",
              "<style scoped>\n",
              "    .dataframe tbody tr th:only-of-type {\n",
              "        vertical-align: middle;\n",
              "    }\n",
              "\n",
              "    .dataframe tbody tr th {\n",
              "        vertical-align: top;\n",
              "    }\n",
              "\n",
              "    .dataframe thead th {\n",
              "        text-align: right;\n",
              "    }\n",
              "</style>\n",
              "<table border=\"1\" class=\"dataframe\">\n",
              "  <thead>\n",
              "    <tr style=\"text-align: right;\">\n",
              "      <th></th>\n",
              "      <th>org</th>\n",
              "      <th>prd</th>\n",
              "    </tr>\n",
              "  </thead>\n",
              "  <tbody>\n",
              "    <tr>\n",
              "      <th>0</th>\n",
              "      <td>34.369999</td>\n",
              "      <td>34.187664</td>\n",
              "    </tr>\n",
              "    <tr>\n",
              "      <th>1</th>\n",
              "      <td>34.490002</td>\n",
              "      <td>34.187664</td>\n",
              "    </tr>\n",
              "    <tr>\n",
              "      <th>2</th>\n",
              "      <td>34.450001</td>\n",
              "      <td>34.251087</td>\n",
              "    </tr>\n",
              "    <tr>\n",
              "      <th>3</th>\n",
              "      <td>34.410000</td>\n",
              "      <td>34.230934</td>\n",
              "    </tr>\n",
              "    <tr>\n",
              "      <th>4</th>\n",
              "      <td>34.389999</td>\n",
              "      <td>34.209801</td>\n",
              "    </tr>\n",
              "    <tr>\n",
              "      <th>...</th>\n",
              "      <td>...</td>\n",
              "      <td>...</td>\n",
              "    </tr>\n",
              "    <tr>\n",
              "      <th>10215</th>\n",
              "      <td>33.820000</td>\n",
              "      <td>33.768440</td>\n",
              "    </tr>\n",
              "    <tr>\n",
              "      <th>10216</th>\n",
              "      <td>33.810001</td>\n",
              "      <td>33.785778</td>\n",
              "    </tr>\n",
              "    <tr>\n",
              "      <th>10217</th>\n",
              "      <td>33.820000</td>\n",
              "      <td>33.777122</td>\n",
              "    </tr>\n",
              "    <tr>\n",
              "      <th>10218</th>\n",
              "      <td>33.810001</td>\n",
              "      <td>33.785778</td>\n",
              "    </tr>\n",
              "    <tr>\n",
              "      <th>10219</th>\n",
              "      <td>33.810001</td>\n",
              "      <td>33.777122</td>\n",
              "    </tr>\n",
              "  </tbody>\n",
              "</table>\n",
              "<p>10220 rows × 2 columns</p>\n",
              "</div>"
            ],
            "text/plain": [
              "             org        prd\n",
              "0      34.369999  34.187664\n",
              "1      34.490002  34.187664\n",
              "2      34.450001  34.251087\n",
              "3      34.410000  34.230934\n",
              "4      34.389999  34.209801\n",
              "...          ...        ...\n",
              "10215  33.820000  33.768440\n",
              "10216  33.810001  33.785778\n",
              "10217  33.820000  33.777122\n",
              "10218  33.810001  33.785778\n",
              "10219  33.810001  33.777122\n",
              "\n",
              "[10220 rows x 2 columns]"
            ]
          },
          "execution_count": 54,
          "metadata": {},
          "output_type": "execute_result"
        }
      ],
      "source": [
        "# start(num) : 0-모델 재생성 1-모델 적용\n",
        "\n",
        "# 모델 재생성\n",
        "# ensure all data is float 데이터를 float32로 변환\n",
        "values = new_df.values\n",
        "values = values.astype('float32')\n",
        "\n",
        "train_X, train_y, test_X, test_y, act_X, act_y = shift_data(values)\n",
        "model = model_compile(train_X)\n",
        "\n",
        "# r2, model = model_fitting(train_X, train_y, test_X, test_y, model)\n",
        "# zhat = model.predict(act_X)\n",
        "\n",
        "coin = 1\n",
        "while True:\n",
        "    print(f'{coin}번 째 시도')\n",
        "    r2, model = model_fitting(train_X, train_y, test_X, test_y, model)\n",
        "    if r2 < 0.9:\n",
        "        coin += 1\n",
        "        continue\n",
        "    else:\n",
        "        zhat = model.predict(act_X)\n",
        "        break\n",
        "        \n",
        "show_rst(act_X, act_y, zhat)"
      ]
    },
    {
      "cell_type": "code",
      "execution_count": null,
      "id": "ebd279ca",
      "metadata": {
        "id": "ebd279ca"
      },
      "outputs": [],
      "source": [
        ""
      ]
    }
  ],
  "metadata": {
    "kernelspec": {
      "display_name": "Python 3",
      "language": "python",
      "name": "python3"
    },
    "language_info": {
      "codemirror_mode": {
        "name": "ipython",
        "version": 3
      },
      "file_extension": ".py",
      "mimetype": "text/x-python",
      "name": "python",
      "nbconvert_exporter": "python",
      "pygments_lexer": "ipython3",
      "version": "3.8.8"
    },
    "colab": {
      "name": "GJ_el_pred - 복사본.ipynb",
      "provenance": []
    }
  },
  "nbformat": 4,
  "nbformat_minor": 5
}